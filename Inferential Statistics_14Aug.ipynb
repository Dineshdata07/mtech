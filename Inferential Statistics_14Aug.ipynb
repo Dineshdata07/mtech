{
 "cells": [
  {
   "cell_type": "code",
   "execution_count": 4,
   "metadata": {},
   "outputs": [],
   "source": [
    "import pandas as pd\n",
    "import numpy as np\n",
    "from scipy import stats as st\n",
    "from matplotlib import pyplot as plot\n"
   ]
  },
  {
   "cell_type": "code",
   "execution_count": 5,
   "metadata": {},
   "outputs": [],
   "source": [
    "#5% of pen manufactured by the company x is defective\n",
    "#this company is selling 50 pens in a pack throug online\n",
    "#what is the probabilty to get 2 defective pens in a box?\n",
    "\n"
   ]
  },
  {
   "cell_type": "code",
   "execution_count": 13,
   "metadata": {},
   "outputs": [
    {
     "data": {
      "text/plain": [
       "0.26110137039881826"
      ]
     },
     "execution_count": 13,
     "metadata": {},
     "output_type": "execute_result"
    }
   ],
   "source": [
    "#nCx * p^(x) *(1-p)^(n-x)\n",
    "n=50\n",
    "x=2\n",
    "p=0.05\n",
    "\n",
    "st.binom.pmf(x,n,p)"
   ]
  },
  {
   "cell_type": "code",
   "execution_count": null,
   "metadata": {},
   "outputs": [],
   "source": [
    "#probabilty of 2 pen defective is 26%"
   ]
  },
  {
   "cell_type": "code",
   "execution_count": 24,
   "metadata": {},
   "outputs": [
    {
     "data": {
      "text/plain": [
       "array([2.02486777e-01, 2.61101370e-01, 2.19874838e-01, 1.35975229e-01,\n",
       "       6.58406372e-02, 2.59897252e-02, 8.59810457e-03, 2.43235853e-03,\n",
       "       5.97421394e-04, 1.28917248e-04, 2.46731575e-05, 4.22040852e-06,\n",
       "       6.49293619e-07, 9.03152779e-08, 1.14082456e-08, 1.31344933e-09,\n",
       "       1.38257824e-10, 1.33406673e-11, 1.18255222e-12])"
      ]
     },
     "execution_count": 24,
     "metadata": {},
     "output_type": "execute_result"
    }
   ],
   "source": [
    "#nCx * p^(x) *(1-p)^(n-x)\n",
    "n=50\n",
    "x=np.arange(1,20)\n",
    "p=0.05\n",
    "\n",
    "probarry = st.binom.pmf(x,n,p)\n",
    "probarry"
   ]
  },
  {
   "cell_type": "code",
   "execution_count": 25,
   "metadata": {},
   "outputs": [
    {
     "data": {
      "text/plain": [
       "[<matplotlib.lines.Line2D at 0x259c4e2ac08>]"
      ]
     },
     "execution_count": 25,
     "metadata": {},
     "output_type": "execute_result"
    },
    {
     "data": {
      "image/png": "[encoded data removed]",
      "text/plain": [
       "<Figure size 432x288 with 1 Axes>"
      ]
     },
     "metadata": {
      "needs_background": "light"
     },
     "output_type": "display_data"
    }
   ],
   "source": [
    "plot.plot(probarry)"
   ]
  },
  {
   "cell_type": "code",
   "execution_count": null,
   "metadata": {},
   "outputs": [],
   "source": []
  }
 ],
 "metadata": {
  "kernelspec": {
   "display_name": "Python 3",
   "language": "python",
   "name": "python3"
  },
  "language_info": {
   "codemirror_mode": {
    "name": "ipython",
    "version": 3
   },
   "file_extension": ".py",
   "mimetype": "text/x-python",
   "name": "python",
   "nbconvert_exporter": "python",
   "pygments_lexer": "ipython3",
   "version": "3.7.4"
  }
 },
 "nbformat": 4,
 "nbformat_minor": 2
}
