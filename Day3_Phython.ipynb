{
 "cells": [
  {
   "cell_type": "code",
   "execution_count": 3,
   "metadata": {},
   "outputs": [
    {
     "name": "stdout",
     "output_type": "stream",
     "text": [
      "[1, 4, 9, 16]\n"
     ]
    }
   ],
   "source": [
    "new=[]\n",
    "num=[1,2,3,4]\n",
    "for i in num:\n",
    "    new.append(i**2)\n",
    "print(new)"
   ]
  },
  {
   "cell_type": "code",
   "execution_count": 4,
   "metadata": {},
   "outputs": [
    {
     "name": "stdout",
     "output_type": "stream",
     "text": [
      "[1, 4, 9, 16]\n"
     ]
    }
   ],
   "source": [
    "new = [i**2 for i in num]\n",
    "print(new)"
   ]
  },
  {
   "cell_type": "code",
   "execution_count": null,
   "metadata": {},
   "outputs": [],
   "source": [
    "num=[1,2,3,4,5,6,8,9]\n",
    "#Generate a list with square of numbers\n",
    "#but consider only even numbers form the given list"
   ]
  },
  {
   "cell_type": "code",
   "execution_count": 6,
   "metadata": {},
   "outputs": [
    {
     "name": "stdout",
     "output_type": "stream",
     "text": [
      "[4, 16]\n"
     ]
    }
   ],
   "source": [
    "evenlist = []\n",
    "\n",
    "for i in num:\n",
    "    if(i%2==0):\n",
    "        evenlist.append(i**2)\n",
    "print(evenlist)"
   ]
  },
  {
   "cell_type": "code",
   "execution_count": 7,
   "metadata": {},
   "outputs": [
    {
     "data": {
      "text/plain": [
       "[4, 16]"
      ]
     },
     "execution_count": 7,
     "metadata": {},
     "output_type": "execute_result"
    }
   ],
   "source": [
    "#list comprehension\n",
    "#new=[output iterable condition]\n",
    "new=[i**2 for i in num if(i%2==0)]\n",
    "new"
   ]
  },
  {
   "cell_type": "code",
   "execution_count": 9,
   "metadata": {},
   "outputs": [
    {
     "name": "stdout",
     "output_type": "stream",
     "text": [
      "[107.0, 214.0, 267.5, 321.0, 481.5]\n"
     ]
    },
    {
     "data": {
      "text/plain": [
       "[107.0, 214.0, 267.5, 321.0, 481.5]"
      ]
     },
     "execution_count": 9,
     "metadata": {},
     "output_type": "execute_result"
    }
   ],
   "source": [
    "prices=[100,200,250,300,450]\n",
    "newprices=[]\n",
    "for i in prices:\n",
    "    newprices.append(i+(i/100*7))\n",
    "print(newprices)\n",
    "\n",
    "[i*1.07 for i in prices]\n"
   ]
  },
  {
   "cell_type": "code",
   "execution_count": 18,
   "metadata": {},
   "outputs": [
    {
     "ename": "ValueError",
     "evalue": "invalid literal for int() with base 10: 'Asset'",
     "output_type": "error",
     "traceback": [
      "\u001b[1;31m---------------------------------------------------------------------------\u001b[0m",
      "\u001b[1;31mValueError\u001b[0m                                Traceback (most recent call last)",
      "\u001b[1;32m<ipython-input-18-d6ddb94920d1>\u001b[0m in \u001b[0;36m<module>\u001b[1;34m\u001b[0m\n\u001b[0;32m      3\u001b[0m \u001b[0mnew\u001b[0m\u001b[1;33m=\u001b[0m\u001b[1;33m[\u001b[0m\u001b[1;33m]\u001b[0m\u001b[1;33m\u001b[0m\u001b[1;33m\u001b[0m\u001b[0m\n\u001b[0;32m      4\u001b[0m \u001b[1;32mfor\u001b[0m \u001b[0mw\u001b[0m \u001b[1;32min\u001b[0m \u001b[0mnewlist\u001b[0m\u001b[1;33m:\u001b[0m\u001b[1;33m\u001b[0m\u001b[1;33m\u001b[0m\u001b[0m\n\u001b[1;32m----> 5\u001b[1;33m     \u001b[0mnew\u001b[0m\u001b[1;33m.\u001b[0m\u001b[0mappend\u001b[0m\u001b[1;33m(\u001b[0m\u001b[0mint\u001b[0m\u001b[1;33m(\u001b[0m\u001b[0mw\u001b[0m\u001b[1;33m)\u001b[0m\u001b[1;33m)\u001b[0m\u001b[1;33m\u001b[0m\u001b[1;33m\u001b[0m\u001b[0m\n\u001b[0m\u001b[0;32m      6\u001b[0m \u001b[0mnew\u001b[0m\u001b[1;33m\u001b[0m\u001b[1;33m\u001b[0m\u001b[0m\n",
      "\u001b[1;31mValueError\u001b[0m: invalid literal for int() with base 10: 'Asset'"
     ]
    }
   ],
   "source": [
    "text=\"Asset in worth 24000000 and liability is 1200000\"\n",
    "newlist=text.split()\n",
    "new=[]\n",
    "for w in newlist:\n",
    "    new.append(int(w))\n",
    "new"
   ]
  },
  {
   "cell_type": "code",
   "execution_count": 14,
   "metadata": {},
   "outputs": [],
   "source": [
    "new=[int(w) for w in text.split() if w.isdigit()]"
   ]
  },
  {
   "cell_type": "code",
   "execution_count": 15,
   "metadata": {},
   "outputs": [
    {
     "data": {
      "text/plain": [
       "[24000000, 1200000]"
      ]
     },
     "execution_count": 15,
     "metadata": {},
     "output_type": "execute_result"
    }
   ],
   "source": [
    "new"
   ]
  },
  {
   "cell_type": "code",
   "execution_count": 20,
   "metadata": {},
   "outputs": [
    {
     "name": "stdout",
     "output_type": "stream",
     "text": [
      "[0.15, 0.2, 0.1, 0.1, 0.1]\n"
     ]
    }
   ],
   "source": [
    "#generate a list of ROI:10% for term deposits,\n",
    "#15%for govt bonds, 20%for T bills\n",
    "investment = [\"GBonds\",\"Tbills\",\"Term\",\"Term\",\"TBills\"]\n",
    "roi=[]\n",
    "for i in investment:\n",
    "    if i == \"GBonds\":\n",
    "        roi.append(0.15)\n",
    "    elif i==\"Tbills\":\n",
    "        roi.append(0.20)\n",
    "    else:\n",
    "        roi.append(0.10)\n",
    "print(roi)"
   ]
  },
  {
   "cell_type": "code",
   "execution_count": 27,
   "metadata": {},
   "outputs": [
    {
     "data": {
      "text/plain": [
       "[0.15, 0.2, 0.1, 0.1, 0.1]"
      ]
     },
     "execution_count": 27,
     "metadata": {},
     "output_type": "execute_result"
    }
   ],
   "source": [
    "roi=[0.15 if i ==\"GBonds\" else 0.2 if i==\"Tbills\"\\\n",
    "    else 0.10 for i in investment]\n",
    "     \n",
    "roi"
   ]
  },
  {
   "cell_type": "code",
   "execution_count": 28,
   "metadata": {},
   "outputs": [],
   "source": [
    "#user difine function\n",
    "def srm_add(price,tax):\n",
    "    total=price+tax\n",
    "    print(total)\n",
    "    "
   ]
  },
  {
   "cell_type": "code",
   "execution_count": 29,
   "metadata": {},
   "outputs": [
    {
     "name": "stdout",
     "output_type": "stream",
     "text": [
      "214\n"
     ]
    }
   ],
   "source": [
    "srm_add(200,14)\n"
   ]
  },
  {
   "cell_type": "code",
   "execution_count": 30,
   "metadata": {},
   "outputs": [
    {
     "name": "stdout",
     "output_type": "stream",
     "text": [
      "590\n"
     ]
    }
   ],
   "source": [
    "srm_add(500,90)"
   ]
  },
  {
   "cell_type": "code",
   "execution_count": 34,
   "metadata": {},
   "outputs": [
    {
     "data": {
      "text/plain": [
       "[1000, 2200, 1000000]"
      ]
     },
     "execution_count": 34,
     "metadata": {},
     "output_type": "execute_result"
    }
   ],
   "source": [
    "#CAN YOU WRITE FUNCTION\n",
    "#that can accept a string\n",
    "#and return you a list of dits if \n",
    "#digits are present in the string\n",
    "\n",
    "\n",
    "def write_dig(text):\n",
    "    new=[int(w) for w in text.split() if w.isdigit()]\n",
    "    return(new)\n",
    "\n",
    "write_dig(\"This is a 1000 2200 queue for rich people who have 1000000 salary\")    "
   ]
  },
  {
   "cell_type": "code",
   "execution_count": 35,
   "metadata": {},
   "outputs": [],
   "source": [
    "def srm_rate(total,qty):\n",
    "    unit=total/qty\n",
    "    return(unit)"
   ]
  },
  {
   "cell_type": "code",
   "execution_count": 36,
   "metadata": {},
   "outputs": [
    {
     "data": {
      "text/plain": [
       "30.0"
      ]
     },
     "execution_count": 36,
     "metadata": {},
     "output_type": "execute_result"
    }
   ],
   "source": [
    "z=srm_rate(300,10)\n",
    "z"
   ]
  },
  {
   "cell_type": "code",
   "execution_count": 38,
   "metadata": {},
   "outputs": [
    {
     "data": {
      "text/plain": [
       "30.0"
      ]
     },
     "execution_count": 38,
     "metadata": {},
     "output_type": "execute_result"
    }
   ],
   "source": [
    "z=srm_rate(qty=10,total=300)\n",
    "z"
   ]
  },
  {
   "cell_type": "code",
   "execution_count": 39,
   "metadata": {},
   "outputs": [],
   "source": [
    "z=srm_rate(300,20)"
   ]
  },
  {
   "cell_type": "code",
   "execution_count": 40,
   "metadata": {},
   "outputs": [
    {
     "data": {
      "text/plain": [
       "15.0"
      ]
     },
     "execution_count": 40,
     "metadata": {},
     "output_type": "execute_result"
    }
   ],
   "source": [
    "z"
   ]
  },
  {
   "cell_type": "markdown",
   "metadata": {},
   "source": [
    "#Required Arguments\n",
    "#keyword arguments\n",
    "#Default Arguments\n",
    "#Variable-lenght Argument\n",
    "#Variable-Lenght keyword Arguments"
   ]
  },
  {
   "cell_type": "code",
   "execution_count": 41,
   "metadata": {},
   "outputs": [
    {
     "name": "stdout",
     "output_type": "stream",
     "text": [
      "(1, 2, 3, 4, 5, 6)\n"
     ]
    }
   ],
   "source": [
    "#*froms a tuple\n",
    "def srm_add_all(*num):\n",
    "    print(num)\n",
    "srm_add_all(1,2,3,4,5,6)\n",
    "    "
   ]
  },
  {
   "cell_type": "code",
   "execution_count": 45,
   "metadata": {},
   "outputs": [
    {
     "data": {
      "text/plain": [
       "21"
      ]
     },
     "execution_count": 45,
     "metadata": {},
     "output_type": "execute_result"
    }
   ],
   "source": [
    "def srm_add_n(*num):\n",
    "    addval=0\n",
    "    for i in num:\n",
    "        addval = addval+i\n",
    "    return(addval)\n",
    "srm_add_n(1,2,3,4,5,6)"
   ]
  },
  {
   "cell_type": "code",
   "execution_count": 47,
   "metadata": {},
   "outputs": [],
   "source": [
    "def srm_data(**info):\n",
    "    print(info)"
   ]
  },
  {
   "cell_type": "code",
   "execution_count": 48,
   "metadata": {},
   "outputs": [
    {
     "name": "stdout",
     "output_type": "stream",
     "text": [
      "{'name': 'John', 'age': 20, 'qlf': 'Masters'}\n"
     ]
    }
   ],
   "source": [
    "srm_data(name=\"John\",age=20,qlf=\"Masters\")"
   ]
  },
  {
   "cell_type": "code",
   "execution_count": 51,
   "metadata": {},
   "outputs": [
    {
     "name": "stdout",
     "output_type": "stream",
     "text": [
      "{'name': 'john', 'prod': 'soap', 'store': ['A', 'B', 'C']}\n"
     ]
    }
   ],
   "source": [
    "srm_data(name=\"john\",prod=\"soap\",store=[\"A\",\"B\",\"C\"])"
   ]
  },
  {
   "cell_type": "code",
   "execution_count": 52,
   "metadata": {},
   "outputs": [],
   "source": [
    "def srm_value(rate,tax,qty):\n",
    "    cost_before_tax=rate*qty\n",
    "    cost_after_tax=cost_before_tax+tax\n",
    "    return cost_before_tax,cost_after_tax"
   ]
  },
  {
   "cell_type": "code",
   "execution_count": 53,
   "metadata": {},
   "outputs": [
    {
     "name": "stdout",
     "output_type": "stream",
     "text": [
      "1000\n",
      "1500\n"
     ]
    }
   ],
   "source": [
    "abc,bac = srm_value(10,500,100)\n",
    "print(abc)\n",
    "print(bac)"
   ]
  },
  {
   "cell_type": "code",
   "execution_count": 54,
   "metadata": {},
   "outputs": [
    {
     "data": {
      "text/plain": [
       "<function __main__.<lambda>(x)>"
      ]
     },
     "execution_count": 54,
     "metadata": {},
     "output_type": "execute_result"
    }
   ],
   "source": [
    "lambda x:x+1"
   ]
  },
  {
   "cell_type": "code",
   "execution_count": 55,
   "metadata": {},
   "outputs": [
    {
     "data": {
      "text/plain": [
       "7"
      ]
     },
     "execution_count": 55,
     "metadata": {},
     "output_type": "execute_result"
    }
   ],
   "source": [
    "result = lambda x:x+1\n",
    "result(6)"
   ]
  },
  {
   "cell_type": "code",
   "execution_count": 56,
   "metadata": {},
   "outputs": [
    {
     "data": {
      "text/plain": [
       "1106"
      ]
     },
     "execution_count": 56,
     "metadata": {},
     "output_type": "execute_result"
    }
   ],
   "source": [
    "result=lambda x:x**2+1+x**3+5\n",
    "result(10)"
   ]
  },
  {
   "cell_type": "code",
   "execution_count": 59,
   "metadata": {},
   "outputs": [
    {
     "data": {
      "text/plain": [
       "'Jhon Taylor'"
      ]
     },
     "execution_count": 59,
     "metadata": {},
     "output_type": "execute_result"
    }
   ],
   "source": [
    "fn=\"jhon\"\n",
    "ln=\"taylor\"\n",
    "fullname=lambda fn, ln :fn.title()+\" \"+ln.title()\n",
    "fullname(fn,ln)"
   ]
  },
  {
   "cell_type": "code",
   "execution_count": 60,
   "metadata": {},
   "outputs": [
    {
     "data": {
      "text/plain": [
       "['John Taylor', 'Manash Kumar', 'Ramesh Nair', 'Swathi Reddy']"
      ]
     },
     "execution_count": 60,
     "metadata": {},
     "output_type": "execute_result"
    }
   ],
   "source": [
    "names=[\"Ramesh Nair\",\"John Taylor\",\"Swathi Reddy\",\"Manash Kumar\"]\n",
    "#sort the list\n",
    "names.sort()\n",
    "names"
   ]
  },
  {
   "cell_type": "code",
   "execution_count": 61,
   "metadata": {},
   "outputs": [
    {
     "data": {
      "text/plain": [
       "['Manash Kumar', 'Ramesh Nair', 'Swathi Reddy', 'John Taylor']"
      ]
     },
     "execution_count": 61,
     "metadata": {},
     "output_type": "execute_result"
    }
   ],
   "source": [
    "#sort the list by last naem\n",
    "names=[\"Ramesh Nair\",\"John Taylor\",\"Swathi Reddy\",\"Manash Kumar\"]\n",
    "names.sort(key=lambda x:x.split(\" \")[1])\n",
    "names"
   ]
  },
  {
   "cell_type": "code",
   "execution_count": 64,
   "metadata": {},
   "outputs": [
    {
     "data": {
      "text/plain": [
       "[('orange', 54), ('grapres', 59), ('apples', 87), ('kiwi', 117)]"
      ]
     },
     "execution_count": 64,
     "metadata": {},
     "output_type": "execute_result"
    }
   ],
   "source": [
    "items=[(\"apples\",87),(\"orange\",54),(\"grapres\",59),(\"kiwi\",117)]\n",
    "#sort by amount\n",
    "items.sort(key=lambda x:x[1])\n",
    "items\n"
   ]
  },
  {
   "cell_type": "code",
   "execution_count": 66,
   "metadata": {},
   "outputs": [],
   "source": [
    "emp =[{\"name\":\"John\",\"age\":23,\"YOJ\":2016},\\\n",
    "     {\"name\":\"Mary\",\"age\":32,\"YOJ\":2019},\\\n",
    "     {\"name\":\"TOmmy\",\"age\":199,\"YOJ\":2017},\\\n",
    "     {\"name\":\"Henry\",\"age\":40,\"YOJ\":2020}]"
   ]
  },
  {
   "cell_type": "code",
   "execution_count": 68,
   "metadata": {},
   "outputs": [
    {
     "data": {
      "text/plain": [
       "[{'name': 'Henry', 'age': 40, 'YOJ': 2020},\n",
       " {'name': 'Mary', 'age': 32, 'YOJ': 2019},\n",
       " {'name': 'TOmmy', 'age': 199, 'YOJ': 2017},\n",
       " {'name': 'John', 'age': 23, 'YOJ': 2016}]"
      ]
     },
     "execution_count": 68,
     "metadata": {},
     "output_type": "execute_result"
    }
   ],
   "source": [
    "emp.sort(key=lambda x:x['YOJ'],reverse=True)\n",
    "emp"
   ]
  },
  {
   "cell_type": "code",
   "execution_count": 2,
   "metadata": {},
   "outputs": [
    {
     "name": "stdout",
     "output_type": "stream",
     "text": [
      "Weight_array [57 63 73 64]\n"
     ]
    }
   ],
   "source": [
    "import numpy as np\n",
    "weigth=[57,63,73,64]\n",
    "weigth_array=np.array(weigth)\n",
    "print(\"Weight_array\",weigth_array)"
   ]
  },
  {
   "cell_type": "code",
   "execution_count": 5,
   "metadata": {},
   "outputs": [
    {
     "name": "stdout",
     "output_type": "stream",
     "text": [
      "type of weight <class 'list'>\n"
     ]
    }
   ],
   "source": [
    "print('type of weight',type(weigth))"
   ]
  },
  {
   "cell_type": "code",
   "execution_count": 6,
   "metadata": {},
   "outputs": [
    {
     "data": {
      "text/plain": [
       "array([0.31978541, 0.03776795, 0.22352318, 0.44661829, 0.35971312,\n",
       "       0.70613379, 0.6988188 , 0.27382991, 0.66675441, 0.48110863,\n",
       "       0.81400965, 0.96884255, 0.51729604, 0.30489974, 0.59944779,\n",
       "       0.43569424, 0.75681026, 0.75905382, 0.44862918, 0.09833394,\n",
       "       0.38674327, 0.36253171, 0.29979691, 0.36387157, 0.42798214,\n",
       "       0.13873633, 0.37874764, 0.5664301 , 0.60994455, 0.83601679,\n",
       "       0.41558502, 0.54011598, 0.50407273, 0.65670181, 0.33538282,\n",
       "       0.48487475, 0.95185299, 0.11639751, 0.86444286, 0.1895583 ,\n",
       "       0.24285137, 0.66518729, 0.90716467, 0.96819381, 0.78925946,\n",
       "       0.30997302, 0.55853523, 0.84064779, 0.88163331, 0.35944546,\n",
       "       0.76625838, 0.25431085, 0.55600929, 0.47741838, 0.3911635 ,\n",
       "       0.28095693, 0.93418301, 0.18009547, 0.88240092, 0.07561401,\n",
       "       0.03272799, 0.3303323 , 0.99447748, 0.40643567, 0.93880159,\n",
       "       0.50762619, 0.10689835, 0.46040954, 0.3371684 , 0.60188468,\n",
       "       0.23323708, 0.23746092, 0.90986953, 0.52442378, 0.00144495,\n",
       "       0.92641348, 0.27602747, 0.47941967, 0.14515298, 0.43091504,\n",
       "       0.1128052 , 0.80799832, 0.12815243, 0.80422021, 0.0989198 ,\n",
       "       0.74373622, 0.58515602, 0.34954264, 0.28426353, 0.76823138,\n",
       "       0.99143847, 0.01322805, 0.144766  , 0.45700917, 0.9808601 ,\n",
       "       0.89991007, 0.89706625, 0.4009308 , 0.10260115, 0.12262995])"
      ]
     },
     "execution_count": 6,
     "metadata": {},
     "output_type": "execute_result"
    }
   ],
   "source": [
    "np.random.random(size=100)\n",
    "#random = [will include 0 but not include 1)"
   ]
  },
  {
   "cell_type": "code",
   "execution_count": 7,
   "metadata": {},
   "outputs": [
    {
     "data": {
      "text/plain": [
       "array([0.66371716, 0.89759732, 0.69541904, 0.52099382, 0.24259614])"
      ]
     },
     "execution_count": 7,
     "metadata": {},
     "output_type": "execute_result"
    }
   ],
   "source": [
    "np.random.rand(5)\n",
    "#uniform distribution (between 0 to 1)"
   ]
  },
  {
   "cell_type": "code",
   "execution_count": 8,
   "metadata": {},
   "outputs": [
    {
     "data": {
      "text/plain": [
       "array([-0.14313726,  0.08393085, -0.11897772,  0.3025749 , -0.05943983])"
      ]
     },
     "execution_count": 8,
     "metadata": {},
     "output_type": "execute_result"
    }
   ],
   "source": [
    "np.random.randn(5)\n",
    "#standard distribution"
   ]
  },
  {
   "cell_type": "code",
   "execution_count": 9,
   "metadata": {},
   "outputs": [
    {
     "data": {
      "text/plain": [
       "17"
      ]
     },
     "execution_count": 9,
     "metadata": {},
     "output_type": "execute_result"
    }
   ],
   "source": [
    "np.random.randint(5,20)"
   ]
  },
  {
   "cell_type": "code",
   "execution_count": 10,
   "metadata": {},
   "outputs": [
    {
     "data": {
      "text/plain": [
       "array([12,  7,  7,  5,  5, 12])"
      ]
     },
     "execution_count": 10,
     "metadata": {},
     "output_type": "execute_result"
    }
   ],
   "source": [
    "np.random.randint(5,20,6)"
   ]
  },
  {
   "cell_type": "code",
   "execution_count": 15,
   "metadata": {},
   "outputs": [
    {
     "data": {
      "text/plain": [
       "array([  33,   66,   99,  132,  165,  198,  231,  264,  297,  330,  363,\n",
       "        396,  429,  462,  495,  528,  561,  594,  627,  660,  693,  726,\n",
       "        759,  792,  825,  858,  891,  924,  957,  990, 1023, 1056, 1089,\n",
       "       1122, 1155, 1188, 1221, 1254, 1287, 1320, 1353, 1386, 1419, 1452,\n",
       "       1485, 1518, 1551, 1584, 1617, 1650, 1683, 1716, 1749, 1782, 1815,\n",
       "       1848, 1881, 1914, 1947, 1980, 2013, 2046, 2079, 2112, 2145, 2178,\n",
       "       2211, 2244, 2277, 2310, 2343, 2376, 2409, 2442, 2475, 2508, 2541,\n",
       "       2574, 2607, 2640, 2673, 2706, 2739, 2772, 2805, 2838, 2871, 2904,\n",
       "       2937, 2970, 3003, 3036, 3069, 3102, 3135, 3168, 3201, 3234, 3267,\n",
       "       3300])"
      ]
     },
     "execution_count": 15,
     "metadata": {},
     "output_type": "execute_result"
    }
   ],
   "source": [
    "even_num=np.arange(start=33,stop=3301,step=33)\n",
    "even_num\n",
    "#end number is not included"
   ]
  },
  {
   "cell_type": "code",
   "execution_count": 17,
   "metadata": {},
   "outputs": [
    {
     "data": {
      "text/plain": [
       "array([  33.     ,  135.09375,  237.1875 ,  339.28125,  441.375  ,\n",
       "        543.46875,  645.5625 ,  747.65625,  849.75   ,  951.84375,\n",
       "       1053.9375 , 1156.03125, 1258.125  , 1360.21875, 1462.3125 ,\n",
       "       1564.40625, 1666.5    , 1768.59375, 1870.6875 , 1972.78125,\n",
       "       2074.875  , 2176.96875, 2279.0625 , 2381.15625, 2483.25   ,\n",
       "       2585.34375, 2687.4375 , 2789.53125, 2891.625  , 2993.71875,\n",
       "       3095.8125 , 3197.90625, 3300.     ])"
      ]
     },
     "execution_count": 17,
     "metadata": {},
     "output_type": "execute_result"
    }
   ],
   "source": [
    "even_num=np.linspace(start=33,stop=3300,num=33)\n",
    "even_num\n",
    "#end number is included\n",
    "#it gives float\n"
   ]
  },
  {
   "cell_type": "code",
   "execution_count": 18,
   "metadata": {},
   "outputs": [
    {
     "data": {
      "text/plain": [
       "(4,)"
      ]
     },
     "execution_count": 18,
     "metadata": {},
     "output_type": "execute_result"
    }
   ],
   "source": [
    "#create Nympy array\n",
    "\n",
    "np.zeros(shape=4)\n",
    "a=np.zeros(shape=4)\n",
    "a.shape"
   ]
  },
  {
   "cell_type": "code",
   "execution_count": 19,
   "metadata": {},
   "outputs": [
    {
     "data": {
      "text/plain": [
       "array([1., 1., 1., 1., 1.])"
      ]
     },
     "execution_count": 19,
     "metadata": {},
     "output_type": "execute_result"
    }
   ],
   "source": [
    "np.ones(shape=5)"
   ]
  },
  {
   "cell_type": "code",
   "execution_count": 26,
   "metadata": {},
   "outputs": [
    {
     "data": {
      "text/plain": [
       "array([[0., 0.],\n",
       "       [0., 0.],\n",
       "       [0., 0.],\n",
       "       [0., 0.],\n",
       "       [0., 0.],\n",
       "       [0., 0.]])"
      ]
     },
     "execution_count": 26,
     "metadata": {},
     "output_type": "execute_result"
    }
   ],
   "source": [
    "np.zeros((6,2))"
   ]
  },
  {
   "cell_type": "code",
   "execution_count": 25,
   "metadata": {},
   "outputs": [
    {
     "data": {
      "text/plain": [
       "array([[6.95277474e-310, 6.95277474e-310],\n",
       "       [6.95277474e-310, 6.95277474e-310]])"
      ]
     },
     "execution_count": 25,
     "metadata": {},
     "output_type": "execute_result"
    }
   ],
   "source": [
    "matrix_empty= np.empty((2,2),dtype=float)\n",
    "matrix_empty"
   ]
  },
  {
   "cell_type": "code",
   "execution_count": 29,
   "metadata": {},
   "outputs": [
    {
     "data": {
      "text/plain": [
       "array([[10, 10],\n",
       "       [10, 10]])"
      ]
     },
     "execution_count": 29,
     "metadata": {},
     "output_type": "execute_result"
    }
   ],
   "source": [
    "#create a full matrix np.full\n",
    "matrix_full= np.full((2,2),fill_value=10)\n",
    "matrix_full"
   ]
  },
  {
   "cell_type": "code",
   "execution_count": 30,
   "metadata": {},
   "outputs": [
    {
     "data": {
      "text/plain": [
       "array([[1., 0., 0.],\n",
       "       [0., 1., 0.],\n",
       "       [0., 0., 1.]])"
      ]
     },
     "execution_count": 30,
     "metadata": {},
     "output_type": "execute_result"
    }
   ],
   "source": [
    "np.identity(3)"
   ]
  },
  {
   "cell_type": "code",
   "execution_count": null,
   "metadata": {},
   "outputs": [],
   "source": [
    "#Attributes will not have any brakets at the end \n",
    "#few attributed are \n",
    "#size\n",
    "#Shape\n",
    "#ndim\n",
    "#dtype\n"
   ]
  },
  {
   "cell_type": "code",
   "execution_count": 34,
   "metadata": {},
   "outputs": [
    {
     "name": "stdout",
     "output_type": "stream",
     "text": [
      "Original array [[4 9]\n",
      " [7 2]\n",
      " [5 6]]\n",
      "reshape array [[4 9 7]\n",
      " [2 5 6]]\n"
     ]
    }
   ],
   "source": [
    "original_array=np.array([(4,9),(7,2),(5,6)])\n",
    "print(\"Original array\",original_array)\n",
    "\n",
    "reshape_array=original_array.reshape(2,3)\n",
    "print(\"reshape array\",reshape_array)\n"
   ]
  },
  {
   "cell_type": "code",
   "execution_count": 38,
   "metadata": {},
   "outputs": [
    {
     "name": "stdout",
     "output_type": "stream",
     "text": [
      "second row [50 60 70]\n",
      "second row [50 60 70]\n",
      "second row [20 30]\n",
      "second row [[20]]\n"
     ]
    }
   ],
   "source": [
    "weight=np.array([(20,30,40),(50,60,70)])\n",
    "print(\"second row\",weight[1,:])\n",
    "print(\"second row\",weight[1])\n",
    "print(\"second row\",weight[0,:2])\n",
    "print(\"second row\",weight[0:1,0:1])"
   ]
  },
  {
   "cell_type": "code",
   "execution_count": null,
   "metadata": {},
   "outputs": [],
   "source": [
    "#array[rows,column]\n"
   ]
  },
  {
   "cell_type": "code",
   "execution_count": 41,
   "metadata": {},
   "outputs": [
    {
     "name": "stdout",
     "output_type": "stream",
     "text": [
      "age greater than 18: [False  True  True False False  True]\n",
      "age greater than 18: [45 22 25]\n"
     ]
    }
   ],
   "source": [
    "#array comparison\n",
    "\n",
    "age=np.array([13,45,22,6,14,25])\n",
    "print('age greater than 18:',age>18)\n",
    "print('age greater than 18:',age[age>18])\n",
    "#array[Filtering.Condition]"
   ]
  },
  {
   "cell_type": "code",
   "execution_count": 42,
   "metadata": {},
   "outputs": [
    {
     "name": "stdout",
     "output_type": "stream",
     "text": [
      "update_array: [ 2  4  6  8 10]\n"
     ]
    }
   ],
   "source": [
    "num_array=np.array([1,2,3,4,5])\n",
    "print('update_array:',num_array*2)"
   ]
  },
  {
   "cell_type": "code",
   "execution_count": 49,
   "metadata": {},
   "outputs": [
    {
     "data": {
      "text/plain": [
       "array([[1, 0, 2],\n",
       "       [4, 2, 3]])"
      ]
     },
     "execution_count": 49,
     "metadata": {},
     "output_type": "execute_result"
    }
   ],
   "source": [
    "num_matrix_1=np.array([[1,0,2],[4,2,3]])\n",
    "num_matrix_2=np.array([[4,0,1],[2,3,0]])\n",
    "\n",
    "num_matrix_1\n",
    "\n"
   ]
  },
  {
   "cell_type": "code",
   "execution_count": 50,
   "metadata": {},
   "outputs": [
    {
     "data": {
      "text/plain": [
       "array([[4, 0, 1],\n",
       "       [2, 3, 0]])"
      ]
     },
     "execution_count": 50,
     "metadata": {},
     "output_type": "execute_result"
    }
   ],
   "source": [
    "num_matrix_2"
   ]
  },
  {
   "cell_type": "code",
   "execution_count": 51,
   "metadata": {},
   "outputs": [
    {
     "data": {
      "text/plain": [
       "array([[4, 0, 2],\n",
       "       [8, 6, 0]])"
      ]
     },
     "execution_count": 51,
     "metadata": {},
     "output_type": "execute_result"
    }
   ],
   "source": [
    "prod = num_matrix_1*num_matrix_2\n",
    "prod"
   ]
  },
  {
   "cell_type": "code",
   "execution_count": 52,
   "metadata": {},
   "outputs": [
    {
     "name": "stdout",
     "output_type": "stream",
     "text": [
      "Minimum 14\n"
     ]
    }
   ],
   "source": [
    "age=np.array([14,74,84,26,56])\n",
    "print(\"Minimum\",age.min())"
   ]
  },
  {
   "cell_type": "code",
   "execution_count": 53,
   "metadata": {},
   "outputs": [
    {
     "name": "stdout",
     "output_type": "stream",
     "text": [
      "Minimum 254\n"
     ]
    }
   ],
   "source": [
    "print(\"Minimum\",age.sum())"
   ]
  },
  {
   "cell_type": "code",
   "execution_count": 54,
   "metadata": {},
   "outputs": [
    {
     "name": "stdout",
     "output_type": "stream",
     "text": [
      "Minimum 50.8\n"
     ]
    }
   ],
   "source": [
    "print(\"Minimum\",age.mean())"
   ]
  },
  {
   "cell_type": "code",
   "execution_count": 55,
   "metadata": {},
   "outputs": [
    {
     "name": "stdout",
     "output_type": "stream",
     "text": [
      "Variance: 727.36\n"
     ]
    }
   ],
   "source": [
    "print(\"Variance:\",age.var())"
   ]
  },
  {
   "cell_type": "code",
   "execution_count": 56,
   "metadata": {},
   "outputs": [
    {
     "name": "stdout",
     "output_type": "stream",
     "text": [
      "Standard Variance: 26.969612529660118\n"
     ]
    }
   ],
   "source": [
    "print(\"Standard Variance:\",age.std())"
   ]
  },
  {
   "cell_type": "code",
   "execution_count": 57,
   "metadata": {},
   "outputs": [
    {
     "name": "stdout",
     "output_type": "stream",
     "text": [
      "Square: [ 196 5476 7056  676 3136]\n"
     ]
    }
   ],
   "source": [
    "print(\"Square:\",np.square(age))"
   ]
  },
  {
   "cell_type": "code",
   "execution_count": 58,
   "metadata": {},
   "outputs": [
    {
     "name": "stdout",
     "output_type": "stream",
     "text": [
      "Square: [  2744 405224 592704  17576 175616]\n"
     ]
    }
   ],
   "source": [
    "print(\"Square:\",np.power(age,3))"
   ]
  },
  {
   "cell_type": "code",
   "execution_count": 59,
   "metadata": {},
   "outputs": [
    {
     "name": "stdout",
     "output_type": "stream",
     "text": [
      "Transpose: [[4 8]\n",
      " [0 6]\n",
      " [2 0]]\n"
     ]
    }
   ],
   "source": [
    "print('Transpose:',np.transpose(prod))"
   ]
  },
  {
   "cell_type": "code",
   "execution_count": 60,
   "metadata": {},
   "outputs": [
    {
     "data": {
      "text/plain": [
       "array([1, 4, 5, 7, 6, 9, 3, 2, 7, 5, 9])"
      ]
     },
     "execution_count": 60,
     "metadata": {},
     "output_type": "execute_result"
    }
   ],
   "source": [
    "order_1=np.array([1,4,5,7])\n",
    "order_2=np.array([6,9,3])\n",
    "order_3=np.array([2,7,5,9])\n",
    "\n",
    "np.concatenate([order_1,order_2,order_3])"
   ]
  },
  {
   "cell_type": "code",
   "execution_count": 61,
   "metadata": {},
   "outputs": [
    {
     "name": "stdout",
     "output_type": "stream",
     "text": [
      "Concatenate row wise: [[1 3]\n",
      " [5 7]\n",
      " [2 4]\n",
      " [6 8]]\n",
      "Concatenate column wise: [[1 3 2 4]\n",
      " [5 7 6 8]]\n"
     ]
    }
   ],
   "source": [
    "odd_array = np.array([[1,3],[5,7]])\n",
    "even_array=np.array([[2,4],[6,8]])\n",
    "\n",
    "print(\"Concatenate row wise:\", np.concatenate([odd_array,even_array]))\n",
    "print(\"Concatenate column wise:\", np.concatenate([odd_array,even_array],axis=1))"
   ]
  },
  {
   "cell_type": "code",
   "execution_count": null,
   "metadata": {},
   "outputs": [],
   "source": []
  }
 ],
 "metadata": {
  "kernelspec": {
   "display_name": "Python 3",
   "language": "python",
   "name": "python3"
  },
  "language_info": {
   "codemirror_mode": {
    "name": "ipython",
    "version": 3
   },
   "file_extension": ".py",
   "mimetype": "text/x-python",
   "name": "python",
   "nbconvert_exporter": "python",
   "pygments_lexer": "ipython3",
   "version": "3.7.4"
  }
 },
 "nbformat": 4,
 "nbformat_minor": 2
}
