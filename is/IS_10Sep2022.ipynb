{
 "cells": [
  {
   "cell_type": "markdown",
   "metadata": {},
   "source": [
    "what is the estimated average weight \n",
    "n=100\n",
    "wbar = 78kg\n",
    "wsd = 10kg\n",
    "_____________sample part\n",
    "\n",
    "\n",
    "Find confidence interval for 95%\n",
    "\n",
    "#refer notebook"
   ]
  },
  {
   "cell_type": "code",
   "execution_count": 7,
   "metadata": {},
   "outputs": [],
   "source": [
    "import scipy.stats as stats\n",
    "import numpy as np\n",
    "import pandas as pd\n",
    "import matplotlib.pyplot as plt\n",
    "import seaborn as sb\n"
   ]
  },
  {
   "cell_type": "markdown",
   "metadata": {},
   "source": [
    "step1 : Formulation of Hypothysis\n",
    "    #Ho: Average time taken is greater than or equal to 12 min\n",
    "    #Ha: Average Time taken is less than 12 min\n",
    "    \n",
    "    \n",
    "#step 2:\n",
    "#level of significance : 0.05\n",
    "#to find critical value for this level of sigmnificance\n"
   ]
  },
  {
   "cell_type": "code",
   "execution_count": 8,
   "metadata": {},
   "outputs": [],
   "source": [
    "ha=\"Avg time taken is less than 12 min\"\n",
    "ho = \"Avg time taken is more than 12 min\""
   ]
  },
  {
   "cell_type": "code",
   "execution_count": 9,
   "metadata": {},
   "outputs": [
    {
     "data": {
      "text/plain": [
       "-1.6448536269514729"
      ]
     },
     "execution_count": 9,
     "metadata": {},
     "output_type": "execute_result"
    }
   ],
   "source": [
    "stats.norm.ppf(0.05)"
   ]
  },
  {
   "cell_type": "code",
   "execution_count": 10,
   "metadata": {},
   "outputs": [
    {
     "name": "stdout",
     "output_type": "stream",
     "text": [
      "-2.630668208823273\n"
     ]
    }
   ],
   "source": [
    "#step 3 \n",
    "#calculate z Stat / t stat\n",
    "n=500\n",
    "sample_mean = 11.8\n",
    "sample_sd=1.7\n",
    "hyp_mean=12\n",
    "z_stat = (sample_mean-hyp_mean)/(sample_sd/np.sqrt(n))\n",
    "print(z_stat)"
   ]
  },
  {
   "cell_type": "code",
   "execution_count": 11,
   "metadata": {},
   "outputs": [
    {
     "name": "stdout",
     "output_type": "stream",
     "text": [
      "0.0042608593383843645\n"
     ]
    }
   ],
   "source": [
    "pval = stats.norm.cdf(z_stat)\n",
    "print(pval)"
   ]
  },
  {
   "cell_type": "code",
   "execution_count": 12,
   "metadata": {},
   "outputs": [
    {
     "name": "stdout",
     "output_type": "stream",
     "text": [
      "Reject Null Hyp/We can go with Alternate Hyp Ha\n",
      "Avg time taken is less than 12 min\n"
     ]
    }
   ],
   "source": [
    "if pval>0.05:\n",
    "    print(\"Failed to reject null Hyp H0\")\n",
    "    print(ho)\n",
    "else:\n",
    "    print(\"Reject Null Hyp/We can go with Alternate Hyp Ha\")\n",
    "    print(ha)"
   ]
  },
  {
   "cell_type": "code",
   "execution_count": 13,
   "metadata": {},
   "outputs": [
    {
     "name": "stdout",
     "output_type": "stream",
     "text": [
      "-2.3263478740408408\n",
      "2.886751345948129\n",
      "0.0019462085613892732\n",
      "Reject Null Hyp / We can go with Alternate Hyp Ha\n",
      "Average immunity level maintained is greater than 180\n"
     ]
    }
   ],
   "source": [
    "\n",
    "ho='Average immunity level maintained is less  than  equal to 180'\n",
    "ha='Average immunity level maintained is greater than 180'\n",
    "#Step 2:\n",
    "#Level of significance : 0.01\n",
    "#to find critical value for this level of significance\n",
    "print(stats.norm.ppf(0.01)) # as it is one tail test\n",
    "\n",
    "#Step 3:\n",
    "#Calculate z stat / t stat\n",
    "n=300\n",
    "sample_mean=185\n",
    "sample_sd=30\n",
    "hyp_mean=180\n",
    "z_stat=(sample_mean-hyp_mean)/(sample_sd/np.sqrt(n))\n",
    "print(z_stat)\n",
    "\n",
    "pval=stats.norm.cdf(z_stat)\n",
    "pval=1-pval #As it is Right tail test\n",
    "#pval is the evidence(probability) for H0\n",
    "print(pval)\n",
    "\n",
    "if pval>0.01:\n",
    "  print(\"failed to reject Null Hyp H0\")\n",
    "  print(ho)\n",
    "else:\n",
    "  print(\"Reject Null Hyp / We can go with Alternate Hyp Ha\")\n",
    "  print(ha)\n",
    "\n",
    "\n"
   ]
  },
  {
   "cell_type": "code",
   "execution_count": 14,
   "metadata": {},
   "outputs": [
    {
     "name": "stdout",
     "output_type": "stream",
     "text": [
      "-1.9599639845400545\n",
      "-9.302325581395317\n",
      "1.3740677108247303e-20\n",
      "Reject Null Hyp / We can go with Alternate Hyp Ha\n",
      "Average age of covid affected male is not eqaul to 38\n"
     ]
    }
   ],
   "source": [
    "ho='Average age of covid affected male is equal to 38'\n",
    "ha='Average age of covid affected male is not eqaul to 38'\n",
    "#Step 2:\n",
    "#Level of significance : 0.01\n",
    "#to find critical value for this level of significance\n",
    "print(stats.norm.ppf(0.025)) # as it is one tail test\n",
    "\n",
    "#Step 3:\n",
    "#Calculate z stat / t stat\n",
    "n=2500\n",
    "sample_mean=37.2\n",
    "sample_sd=4.3\n",
    "hyp_mean=38\n",
    "z_stat=(sample_mean-hyp_mean)/(sample_sd/np.sqrt(n))\n",
    "print(z_stat)\n",
    "\n",
    "pval=stats.norm.cdf(z_stat)\n",
    "pval=2*(pval) #As it is two tail test\n",
    "#pval is the evidence(probability) for H0\n",
    "print(pval)\n",
    "\n",
    "if pval>0.05:\n",
    "  print(\"failed to reject Null Hyp H0\")\n",
    "  print(ho)\n",
    "else:\n",
    "  print(\"Reject Null Hyp / We can go with Alternate Hyp Ha\")\n",
    "  print(ha)\n",
    "\n",
    "\n"
   ]
  },
  {
   "cell_type": "code",
   "execution_count": 15,
   "metadata": {},
   "outputs": [
    {
     "name": "stdout",
     "output_type": "stream",
     "text": [
      "-1.6448536269514729\n",
      "-1.6123450312142704\n",
      "0.05344343965121798\n",
      "failed to reject Null Hyp H0\n",
      "Average I.Q maintained is greater than equal  100\n"
     ]
    }
   ],
   "source": [
    "ho='Average I.Q maintained is greater than equal  100'\n",
    "ha='Average I.Q maintained is  less than 100'\n",
    "#Step 2:\n",
    "#Level of significance : 0.01\n",
    "#to find critical value for this level of significance\n",
    "print(stats.norm.ppf(0.05)) # as it is one tail test\n",
    "\n",
    "#Step 3:\n",
    "#Calculate z stat / t stat\n",
    "n=5\n",
    "sample_mean=(67+79+89+99+109)/5\n",
    "sample_sd=15.81\n",
    "hyp_mean=100\n",
    "z_stat=(sample_mean-hyp_mean)/(sample_sd/np.sqrt(n))\n",
    "print(z_stat)\n",
    "\n",
    "pval=stats.norm.cdf(z_stat)\n",
    " #As it is Right tail test\n",
    "#pval is the evidence(probability) for H0\n",
    "print(pval)\n",
    "\n",
    "if pval>0.05:\n",
    "  print(\"failed to reject Null Hyp H0\")\n",
    "  print(ho)\n",
    "else:\n",
    "  print(\"Reject Null Hyp / We can go with Alternate Hyp Ha\")\n",
    "  print(ha)\n"
   ]
  },
  {
   "cell_type": "code",
   "execution_count": 16,
   "metadata": {},
   "outputs": [
    {
     "name": "stdout",
     "output_type": "stream",
     "text": [
      "88.6\n"
     ]
    }
   ],
   "source": [
    "print(sample_mean)"
   ]
  },
  {
   "cell_type": "markdown",
   "metadata": {},
   "source": [
    "ttest = is sample size is<30\n",
    "ztest = if sample size is >30"
   ]
  },
  {
   "cell_type": "code",
   "execution_count": 17,
   "metadata": {},
   "outputs": [
    {
     "name": "stdout",
     "output_type": "stream",
     "text": [
      "-2.1318467813362907\n",
      "-1.6123450312142704\n",
      "0.05344343965121798\n",
      "failed to reject Null Hyp H0\n",
      "Average I.Q maintained is greater than equal  100\n"
     ]
    }
   ],
   "source": [
    "#T Test\n",
    "\n",
    "#Step 2:\n",
    "#Level of significance : 0.01\n",
    "#to find critical value for this level of significance\n",
    "n=5\n",
    "print(stats.t.ppf(0.05,df=n-1)) # as it is one tail test\n",
    "\n",
    "#Step 3:\n",
    "#Calculate z stat / t stat\n",
    "\n",
    "sample_mean=(67+79+89+99+109)/5\n",
    "sample_sd=15.81\n",
    "hyp_mean=100\n",
    "z_stat=(sample_mean-hyp_mean)/(sample_sd/np.sqrt(n))\n",
    "print(z_stat)\n",
    "\n",
    "pval=stats.norm.cdf(z_stat)\n",
    " #As it is Right tail test\n",
    "#pval is the evidence(probability) for H0\n",
    "print(pval)\n",
    "\n",
    "if pval>0.05:\n",
    "  print(\"failed to reject Null Hyp H0\")\n",
    "  print(ho)\n",
    "else:\n",
    "  print(\"Reject Null Hyp / We can go with Alternate Hyp Ha\")\n",
    "  print(ha)"
   ]
  },
  {
   "cell_type": "code",
   "execution_count": 18,
   "metadata": {},
   "outputs": [],
   "source": [
    "#step 1: Folumulation of hypothis\n",
    "ha=\"Avg time taken is less than 12 min\"\n",
    "ho = \"Avg time taken is more than 12 min\"\n",
    "\n",
    "np.random.seed(10)#to make the sample set static in randomnace\n",
    "samp = np.random.randn(500)\n",
    "\n",
    "sample_mean = 11.8\n",
    "sample_sd=1.7\n",
    "\n",
    "samp1= samp*1.7+11.8\n",
    "\n",
    "\n"
   ]
  },
  {
   "cell_type": "code",
   "execution_count": 19,
   "metadata": {},
   "outputs": [
    {
     "data": {
      "text/plain": [
       "(11.852716979802643, 1.6074201898388085)"
      ]
     },
     "execution_count": 19,
     "metadata": {},
     "output_type": "execute_result"
    }
   ],
   "source": [
    "samp1.mean(),samp1.std()"
   ]
  },
  {
   "cell_type": "code",
   "execution_count": 20,
   "metadata": {},
   "outputs": [],
   "source": [
    "tstat,pval=stats.ttest_1samp(samp1,12)"
   ]
  },
  {
   "cell_type": "code",
   "execution_count": 21,
   "metadata": {},
   "outputs": [
    {
     "data": {
      "text/plain": [
       "(-2.046791171935991, 0.0412019178318832)"
      ]
     },
     "execution_count": 21,
     "metadata": {},
     "output_type": "execute_result"
    }
   ],
   "source": [
    "tstat,pval"
   ]
  },
  {
   "cell_type": "code",
   "execution_count": 22,
   "metadata": {},
   "outputs": [
    {
     "data": {
      "text/plain": [
       "0.0206009589159416"
      ]
     },
     "execution_count": 22,
     "metadata": {},
     "output_type": "execute_result"
    }
   ],
   "source": [
    "pval = pval/2\n",
    "pval"
   ]
  },
  {
   "cell_type": "code",
   "execution_count": 23,
   "metadata": {},
   "outputs": [],
   "source": [
    "data=pd.read_csv(\"https://raw.githubusercontent.com/tkseneee/Dataset/master/HR_stat_data.csv\")"
   ]
  },
  {
   "cell_type": "code",
   "execution_count": 24,
   "metadata": {},
   "outputs": [
    {
     "data": {
      "text/html": [
       "<div>\n",
       "<style scoped>\n",
       "    .dataframe tbody tr th:only-of-type {\n",
       "        vertical-align: middle;\n",
       "    }\n",
       "\n",
       "    .dataframe tbody tr th {\n",
       "        vertical-align: top;\n",
       "    }\n",
       "\n",
       "    .dataframe thead th {\n",
       "        text-align: right;\n",
       "    }\n",
       "</style>\n",
       "<table border=\"1\" class=\"dataframe\">\n",
       "  <thead>\n",
       "    <tr style=\"text-align: right;\">\n",
       "      <th></th>\n",
       "      <th>Individual</th>\n",
       "      <th>Attrition</th>\n",
       "      <th>Age</th>\n",
       "      <th>BusinessTravel</th>\n",
       "      <th>DailyRate</th>\n",
       "      <th>Department</th>\n",
       "      <th>DistanceFromHome</th>\n",
       "      <th>Education</th>\n",
       "      <th>EducationField</th>\n",
       "      <th>EmployeeCount</th>\n",
       "      <th>...</th>\n",
       "      <th>StockOptionLevel</th>\n",
       "      <th>TotalWorkingYears</th>\n",
       "      <th>TrainingTimesLastYear</th>\n",
       "      <th>WorkLifeBalance</th>\n",
       "      <th>YearsAtCompany</th>\n",
       "      <th>YearsInCurrentRole</th>\n",
       "      <th>YearsSinceLastPromotion</th>\n",
       "      <th>YearsWithCurrManager</th>\n",
       "      <th>Age1</th>\n",
       "      <th>MonthlyIncome1</th>\n",
       "    </tr>\n",
       "  </thead>\n",
       "  <tbody>\n",
       "    <tr>\n",
       "      <td>0</td>\n",
       "      <td>Ind1</td>\n",
       "      <td>Yes</td>\n",
       "      <td>41</td>\n",
       "      <td>1</td>\n",
       "      <td>1102</td>\n",
       "      <td>1</td>\n",
       "      <td>1</td>\n",
       "      <td>2</td>\n",
       "      <td>1</td>\n",
       "      <td>1</td>\n",
       "      <td>...</td>\n",
       "      <td>0</td>\n",
       "      <td>8</td>\n",
       "      <td>0</td>\n",
       "      <td>1</td>\n",
       "      <td>6</td>\n",
       "      <td>4</td>\n",
       "      <td>0</td>\n",
       "      <td>5</td>\n",
       "      <td>43.1</td>\n",
       "      <td>8952.576429</td>\n",
       "    </tr>\n",
       "    <tr>\n",
       "      <td>1</td>\n",
       "      <td>Ind2</td>\n",
       "      <td>No</td>\n",
       "      <td>49</td>\n",
       "      <td>2</td>\n",
       "      <td>279</td>\n",
       "      <td>2</td>\n",
       "      <td>8</td>\n",
       "      <td>1</td>\n",
       "      <td>1</td>\n",
       "      <td>1</td>\n",
       "      <td>...</td>\n",
       "      <td>1</td>\n",
       "      <td>10</td>\n",
       "      <td>3</td>\n",
       "      <td>3</td>\n",
       "      <td>10</td>\n",
       "      <td>7</td>\n",
       "      <td>1</td>\n",
       "      <td>7</td>\n",
       "      <td>42.4</td>\n",
       "      <td>15078.533314</td>\n",
       "    </tr>\n",
       "    <tr>\n",
       "      <td>2</td>\n",
       "      <td>Ind3</td>\n",
       "      <td>Yes</td>\n",
       "      <td>37</td>\n",
       "      <td>1</td>\n",
       "      <td>1373</td>\n",
       "      <td>2</td>\n",
       "      <td>2</td>\n",
       "      <td>2</td>\n",
       "      <td>6</td>\n",
       "      <td>1</td>\n",
       "      <td>...</td>\n",
       "      <td>0</td>\n",
       "      <td>7</td>\n",
       "      <td>3</td>\n",
       "      <td>3</td>\n",
       "      <td>0</td>\n",
       "      <td>0</td>\n",
       "      <td>0</td>\n",
       "      <td>0</td>\n",
       "      <td>41.2</td>\n",
       "      <td>8937.969054</td>\n",
       "    </tr>\n",
       "    <tr>\n",
       "      <td>3</td>\n",
       "      <td>Ind4</td>\n",
       "      <td>No</td>\n",
       "      <td>33</td>\n",
       "      <td>2</td>\n",
       "      <td>1392</td>\n",
       "      <td>2</td>\n",
       "      <td>3</td>\n",
       "      <td>4</td>\n",
       "      <td>1</td>\n",
       "      <td>1</td>\n",
       "      <td>...</td>\n",
       "      <td>0</td>\n",
       "      <td>8</td>\n",
       "      <td>3</td>\n",
       "      <td>3</td>\n",
       "      <td>8</td>\n",
       "      <td>7</td>\n",
       "      <td>3</td>\n",
       "      <td>0</td>\n",
       "      <td>32.0</td>\n",
       "      <td>10895.094251</td>\n",
       "    </tr>\n",
       "    <tr>\n",
       "      <td>4</td>\n",
       "      <td>Ind5</td>\n",
       "      <td>No</td>\n",
       "      <td>27</td>\n",
       "      <td>1</td>\n",
       "      <td>591</td>\n",
       "      <td>2</td>\n",
       "      <td>2</td>\n",
       "      <td>1</td>\n",
       "      <td>2</td>\n",
       "      <td>1</td>\n",
       "      <td>...</td>\n",
       "      <td>1</td>\n",
       "      <td>6</td>\n",
       "      <td>3</td>\n",
       "      <td>3</td>\n",
       "      <td>2</td>\n",
       "      <td>2</td>\n",
       "      <td>2</td>\n",
       "      <td>2</td>\n",
       "      <td>32.0</td>\n",
       "      <td>13826.520409</td>\n",
       "    </tr>\n",
       "  </tbody>\n",
       "</table>\n",
       "<p>5 rows × 37 columns</p>\n",
       "</div>"
      ],
      "text/plain": [
       "  Individual  Attrition  Age  BusinessTravel  DailyRate  Department  \\\n",
       "0        Ind1       Yes   41               1       1102           1   \n",
       "1        Ind2        No   49               2        279           2   \n",
       "2        Ind3       Yes   37               1       1373           2   \n",
       "3        Ind4        No   33               2       1392           2   \n",
       "4        Ind5        No   27               1        591           2   \n",
       "\n",
       "   DistanceFromHome  Education  EducationField  EmployeeCount  ...  \\\n",
       "0                 1          2               1              1  ...   \n",
       "1                 8          1               1              1  ...   \n",
       "2                 2          2               6              1  ...   \n",
       "3                 3          4               1              1  ...   \n",
       "4                 2          1               2              1  ...   \n",
       "\n",
       "   StockOptionLevel  TotalWorkingYears  TrainingTimesLastYear  \\\n",
       "0                 0                  8                      0   \n",
       "1                 1                 10                      3   \n",
       "2                 0                  7                      3   \n",
       "3                 0                  8                      3   \n",
       "4                 1                  6                      3   \n",
       "\n",
       "   WorkLifeBalance  YearsAtCompany  YearsInCurrentRole  \\\n",
       "0                1               6                   4   \n",
       "1                3              10                   7   \n",
       "2                3               0                   0   \n",
       "3                3               8                   7   \n",
       "4                3               2                   2   \n",
       "\n",
       "   YearsSinceLastPromotion  YearsWithCurrManager  Age1  MonthlyIncome1  \n",
       "0                        0                     5  43.1     8952.576429  \n",
       "1                        1                     7  42.4    15078.533314  \n",
       "2                        0                     0  41.2     8937.969054  \n",
       "3                        3                     0  32.0    10895.094251  \n",
       "4                        2                     2  32.0    13826.520409  \n",
       "\n",
       "[5 rows x 37 columns]"
      ]
     },
     "execution_count": 24,
     "metadata": {},
     "output_type": "execute_result"
    }
   ],
   "source": [
    "data.head(5)"
   ]
  },
  {
   "cell_type": "code",
   "execution_count": 25,
   "metadata": {},
   "outputs": [],
   "source": [
    "#this company is claimimg they are providng more oppertunity for younsters/Freshers\n",
    "\n",
    "#H0 = Avg age > =25\n",
    "#Ha= Avg age < 25\n",
    "\n",
    "\n",
    "age = data[\"Age1\"]\n"
   ]
  },
  {
   "cell_type": "code",
   "execution_count": 26,
   "metadata": {},
   "outputs": [
    {
     "data": {
      "text/plain": [
       "count    1470.000000\n",
       "mean       34.979932\n",
       "std         4.090875\n",
       "min        22.800000\n",
       "25%        32.100000\n",
       "50%        35.000000\n",
       "75%        37.700000\n",
       "max        50.700000\n",
       "Name: Age1, dtype: float64"
      ]
     },
     "execution_count": 26,
     "metadata": {},
     "output_type": "execute_result"
    }
   ],
   "source": [
    "#we can apply normal distribution , check normal distribution mean median mode\n",
    "\n",
    "\n",
    "age.describe()"
   ]
  },
  {
   "cell_type": "code",
   "execution_count": 27,
   "metadata": {},
   "outputs": [
    {
     "data": {
      "text/plain": [
       "<matplotlib.axes._subplots.AxesSubplot at 0x27728a54848>"
      ]
     },
     "execution_count": 27,
     "metadata": {},
     "output_type": "execute_result"
    },
    {
     "data": {
      "image/png": "[encoded data removed]",
      "text/plain": [
       "<Figure size 432x288 with 1 Axes>"
      ]
     },
     "metadata": {
      "needs_background": "light"
     },
     "output_type": "display_data"
    }
   ],
   "source": [
    "sb.kdeplot(age)"
   ]
  },
  {
   "cell_type": "code",
   "execution_count": 28,
   "metadata": {},
   "outputs": [
    {
     "data": {
      "text/plain": [
       "0.0957836546939362"
      ]
     },
     "execution_count": 28,
     "metadata": {},
     "output_type": "execute_result"
    }
   ],
   "source": [
    "age.skew()"
   ]
  },
  {
   "cell_type": "code",
   "execution_count": 29,
   "metadata": {},
   "outputs": [
    {
     "data": {
      "text/plain": [
       "(0.9986578226089478, 0.32134097814559937)"
      ]
     },
     "execution_count": 29,
     "metadata": {},
     "output_type": "execute_result"
    }
   ],
   "source": [
    "stats.shapiro(age)"
   ]
  },
  {
   "cell_type": "code",
   "execution_count": 30,
   "metadata": {},
   "outputs": [
    {
     "data": {
      "text/plain": [
       "(0.9774481654167175, 2.0352736355522087e-14)"
      ]
     },
     "execution_count": 30,
     "metadata": {},
     "output_type": "execute_result"
    }
   ],
   "source": [
    "stats.shapiro(data[\"Age\"])"
   ]
  },
  {
   "cell_type": "code",
   "execution_count": 31,
   "metadata": {},
   "outputs": [
    {
     "data": {
      "text/plain": [
       "<matplotlib.axes._subplots.AxesSubplot at 0x27728d9cb48>"
      ]
     },
     "execution_count": 31,
     "metadata": {},
     "output_type": "execute_result"
    },
    {
     "data": {
      "image/png": "[encoded data removed]",
      "text/plain": [
       "<Figure size 432x288 with 1 Axes>"
      ]
     },
     "metadata": {
      "needs_background": "light"
     },
     "output_type": "display_data"
    }
   ],
   "source": [
    "sb.kdeplot(data[\"Age\"])"
   ]
  },
  {
   "cell_type": "code",
   "execution_count": 32,
   "metadata": {},
   "outputs": [
    {
     "name": "stdout",
     "output_type": "stream",
     "text": [
      "0.0\n"
     ]
    }
   ],
   "source": [
    "#H0 = Avg age > =25\n",
    "#Ha= Avg age < 25\n",
    "\n",
    "tstat,pval=stats.ttest_1samp(age,25)\n",
    "print(pval/2)"
   ]
  },
  {
   "cell_type": "code",
   "execution_count": 33,
   "metadata": {},
   "outputs": [
    {
     "data": {
      "text/plain": [
       "Index(['Individual ', 'Attrition', 'Age', 'BusinessTravel', 'DailyRate',\n",
       "       'Department', 'DistanceFromHome', 'Education', 'EducationField',\n",
       "       'EmployeeCount', 'EmployeeNumber', 'EnvironmentSatisfaction', 'Gender',\n",
       "       'HourlyRate', 'JobInvolvement', 'JobLevel', 'JobRole',\n",
       "       'JobSatisfaction', 'MaritalStatus', 'MonthlyIncome', 'MonthlyRate',\n",
       "       'NumCompaniesWorked', 'OverTime', 'PercentSalaryHike',\n",
       "       'PerformanceRating', 'RelationshipSatisfaction', 'StandardHours',\n",
       "       'StockOptionLevel', 'TotalWorkingYears', 'TrainingTimesLastYear',\n",
       "       'WorkLifeBalance', 'YearsAtCompany', 'YearsInCurrentRole',\n",
       "       'YearsSinceLastPromotion', 'YearsWithCurrManager', 'Age1',\n",
       "       'MonthlyIncome1'],\n",
       "      dtype='object')"
      ]
     },
     "execution_count": 33,
     "metadata": {},
     "output_type": "execute_result"
    }
   ],
   "source": [
    "data.columns"
   ]
  },
  {
   "cell_type": "code",
   "execution_count": 34,
   "metadata": {},
   "outputs": [],
   "source": [
    "#Is this company showing any gender bias in providing salary ?\n",
    "# H0: avg salary of male = avg salary of female\n",
    "# Ha: avg salary of male != avg salary of female\n",
    "\n",
    "# Is salary the reason for attrition ?\n",
    "#H0: avg salary of attrition people = avg salary of non attrition people\n",
    "#Ha: avg salary of attrition people != avg salary of non attrition people"
   ]
  },
  {
   "cell_type": "code",
   "execution_count": 35,
   "metadata": {},
   "outputs": [
    {
     "data": {
      "text/plain": [
       "0       False\n",
       "1        True\n",
       "2        True\n",
       "3       False\n",
       "4        True\n",
       "        ...  \n",
       "1465     True\n",
       "1466     True\n",
       "1467     True\n",
       "1468     True\n",
       "1469     True\n",
       "Name: Gender, Length: 1470, dtype: bool"
      ]
     },
     "execution_count": 35,
     "metadata": {},
     "output_type": "execute_result"
    }
   ],
   "source": [
    "#Is this company showing any gender bias in providing salary ?\n",
    "# H0: avg salary of male = avg salary of female\n",
    "# Ha: avg salary of male != avg salary of female\n",
    "\n",
    "\n",
    "data['Gender']==1"
   ]
  },
  {
   "cell_type": "code",
   "execution_count": 36,
   "metadata": {},
   "outputs": [],
   "source": [
    "male_grp = data[data['Gender']==1]['MonthlyIncome1']"
   ]
  },
  {
   "cell_type": "code",
   "execution_count": 37,
   "metadata": {},
   "outputs": [],
   "source": [
    "female_grp = data[data['Gender']==2]['MonthlyIncome1']"
   ]
  },
  {
   "cell_type": "code",
   "execution_count": 38,
   "metadata": {},
   "outputs": [
    {
     "data": {
      "text/plain": [
       "(12062.942476392296, 12016.646623054554)"
      ]
     },
     "execution_count": 38,
     "metadata": {},
     "output_type": "execute_result"
    }
   ],
   "source": [
    "male_grp.mean(),female_grp.mean()\n"
   ]
  },
  {
   "cell_type": "code",
   "execution_count": 39,
   "metadata": {},
   "outputs": [
    {
     "data": {
      "text/plain": [
       "<matplotlib.axes._subplots.AxesSubplot at 0x27728e38788>"
      ]
     },
     "execution_count": 39,
     "metadata": {},
     "output_type": "execute_result"
    },
    {
     "data": {
      "image/png": "[encoded data removed]",
      "text/plain": [
       "<Figure size 432x288 with 1 Axes>"
      ]
     },
     "metadata": {
      "needs_background": "light"
     },
     "output_type": "display_data"
    }
   ],
   "source": [
    "sb.kdeplot(male_grp,color = 'g')\n",
    "sb.kdeplot(female_grp,color = 'r')"
   ]
  },
  {
   "cell_type": "code",
   "execution_count": 40,
   "metadata": {},
   "outputs": [
    {
     "data": {
      "text/plain": [
       "<matplotlib.axes._subplots.AxesSubplot at 0x27728ead048>"
      ]
     },
     "execution_count": 40,
     "metadata": {},
     "output_type": "execute_result"
    },
    {
     "data": {
      "image/png": "[encoded data removed]",
      "text/plain": [
       "<Figure size 432x288 with 1 Axes>"
      ]
     },
     "metadata": {
      "needs_background": "light"
     },
     "output_type": "display_data"
    }
   ],
   "source": [
    "sb.boxplot(x=data['Gender'],y=data['MonthlyIncome1'])"
   ]
  },
  {
   "cell_type": "code",
   "execution_count": 41,
   "metadata": {},
   "outputs": [],
   "source": [
    "#2 sample ttest is a prametric test hence we need to check the the two assumptions\n",
    "\n",
    "#1.Normality ---  Shapiro\n",
    "#2.test of variance -- levene\n",
    "\n",
    "\n",
    "def check_assumption(grp1,grp2):\n",
    "    t,p=stats.shapiro(grp1)\n",
    "    if p>0.05:\n",
    "        print('Group1 is normally distributed')\n",
    "    else:\n",
    "        print('Group1 is not normally distributed')\n",
    "\n",
    "    t,p=stats.shapiro(grp2)\n",
    "    if p>0.05:\n",
    "        print('Group2 is normally distributed')\n",
    "    else:\n",
    "        print('Group2 is not normally distributed')\n",
    "\n",
    "    t,p=stats.levene(grp1,grp2)\n",
    "    if p>0.05:\n",
    "        print('Two groups variance are same')\n",
    "    else:\n",
    "        print('Two groups variance are not same')\n",
    "    return"
   ]
  },
  {
   "cell_type": "code",
   "execution_count": 42,
   "metadata": {},
   "outputs": [
    {
     "name": "stdout",
     "output_type": "stream",
     "text": [
      "Group1 is normally distributed\n",
      "Group2 is normally distributed\n",
      "Two groups variance are same\n"
     ]
    }
   ],
   "source": [
    "check_assumption(male_grp,female_grp)"
   ]
  },
  {
   "cell_type": "code",
   "execution_count": 43,
   "metadata": {},
   "outputs": [
    {
     "data": {
      "text/plain": [
       "Ttest_indResult(statistic=0.4484606350020932, pvalue=0.6538869730579795)"
      ]
     },
     "execution_count": 43,
     "metadata": {},
     "output_type": "execute_result"
    }
   ],
   "source": [
    "stats.ttest_ind(male_grp,female_grp)"
   ]
  },
  {
   "cell_type": "code",
   "execution_count": 44,
   "metadata": {},
   "outputs": [],
   "source": [
    "#Pvalue is greater than 0.05,hence , we cant reject null hyp\n",
    "#this or is not showing any gender bias in providing salary"
   ]
  },
  {
   "cell_type": "code",
   "execution_count": 45,
   "metadata": {},
   "outputs": [],
   "source": [
    "# Is salary the reason for attrition ?\n",
    "#H0: avg salary of attrition people = avg salary of non attrition people\n",
    "#Ha: avg salary of attrition people != avg salary of non attrition people\n",
    "\n",
    "att_grp = data[data['Attrition']=='Yes']['MonthlyIncome1']\n",
    "nonatt_grp = data[data['Attrition']=='No']['MonthlyIncome1']"
   ]
  },
  {
   "cell_type": "code",
   "execution_count": 46,
   "metadata": {},
   "outputs": [
    {
     "data": {
      "text/plain": [
       "0        8952.576429\n",
       "2        8937.969054\n",
       "14       9992.653191\n",
       "21      12660.515271\n",
       "24       9475.714868\n",
       "            ...     \n",
       "1438    13676.456707\n",
       "1442    10625.644276\n",
       "1444    11400.604100\n",
       "1452    12712.255240\n",
       "1461    12945.310824\n",
       "Name: MonthlyIncome1, Length: 237, dtype: float64"
      ]
     },
     "execution_count": 46,
     "metadata": {},
     "output_type": "execute_result"
    }
   ],
   "source": [
    "att_grp"
   ]
  },
  {
   "cell_type": "code",
   "execution_count": 47,
   "metadata": {},
   "outputs": [
    {
     "name": "stdout",
     "output_type": "stream",
     "text": [
      "Group1 is normally distributed\n",
      "Group2 is normally distributed\n",
      "Two groups variance are same\n"
     ]
    }
   ],
   "source": [
    "check_assumption(att_grp,nonatt_grp)"
   ]
  },
  {
   "cell_type": "code",
   "execution_count": 48,
   "metadata": {},
   "outputs": [
    {
     "data": {
      "text/plain": [
       "<matplotlib.axes._subplots.AxesSubplot at 0x27728f54388>"
      ]
     },
     "execution_count": 48,
     "metadata": {},
     "output_type": "execute_result"
    },
    {
     "data": {
      "image/png": "[encoded data removed]",
      "text/plain": [
       "<Figure size 432x288 with 1 Axes>"
      ]
     },
     "metadata": {
      "needs_background": "light"
     },
     "output_type": "display_data"
    }
   ],
   "source": [
    "sb.kdeplot(att_grp,color = 'g')\n",
    "sb.kdeplot(nonatt_grp,color = 'r')"
   ]
  },
  {
   "cell_type": "code",
   "execution_count": 49,
   "metadata": {},
   "outputs": [
    {
     "data": {
      "text/plain": [
       "<matplotlib.axes._subplots.AxesSubplot at 0x27728f85288>"
      ]
     },
     "execution_count": 49,
     "metadata": {},
     "output_type": "execute_result"
    },
    {
     "data": {
      "image/png": "[encoded data removed]",
      "text/plain": [
       "<Figure size 432x288 with 1 Axes>"
      ]
     },
     "metadata": {
      "needs_background": "light"
     },
     "output_type": "display_data"
    }
   ],
   "source": [
    "sb.boxplot(x=data['Attrition'],y=data['MonthlyIncome1'])"
   ]
  },
  {
   "cell_type": "code",
   "execution_count": 50,
   "metadata": {},
   "outputs": [],
   "source": [
    "yes_grp = data[data['Attrition']=='Yes']['MonthlyIncome']\n",
    "no_grp = data[data['Attrition']=='No']['MonthlyIncome']"
   ]
  },
  {
   "cell_type": "code",
   "execution_count": 51,
   "metadata": {},
   "outputs": [
    {
     "data": {
      "text/plain": [
       "<matplotlib.axes._subplots.AxesSubplot at 0x27729050748>"
      ]
     },
     "execution_count": 51,
     "metadata": {},
     "output_type": "execute_result"
    },
    {
     "data": {
      "image/png": "[encoded data removed]",
      "text/plain": [
       "<Figure size 432x288 with 1 Axes>"
      ]
     },
     "metadata": {
      "needs_background": "light"
     },
     "output_type": "display_data"
    }
   ],
   "source": [
    "sb.kdeplot(yes_grp,color = 'g')\n",
    "sb.kdeplot(no_grp,color = 'r')"
   ]
  },
  {
   "cell_type": "code",
   "execution_count": 52,
   "metadata": {},
   "outputs": [
    {
     "name": "stdout",
     "output_type": "stream",
     "text": [
      "Group1 is not normally distributed\n",
      "Group2 is not normally distributed\n",
      "Two groups variance are not same\n"
     ]
    }
   ],
   "source": [
    "check_assumption(yes_grp,no_grp)"
   ]
  },
  {
   "cell_type": "code",
   "execution_count": 53,
   "metadata": {},
   "outputs": [],
   "source": [
    "#both group valating the rule and cannot be computed and variance is diffrent so we are using non prametric data"
   ]
  },
  {
   "cell_type": "code",
   "execution_count": 54,
   "metadata": {},
   "outputs": [
    {
     "data": {
      "text/plain": [
       "MannwhitneyuResult(statistic=100620.5, pvalue=1.4754154586444366e-14)"
      ]
     },
     "execution_count": 54,
     "metadata": {},
     "output_type": "execute_result"
    }
   ],
   "source": [
    "#we can use a non prametric test(Test of median)in this scenarious\n",
    "#For two sample independent test,the equalent non parametric test #Mannwhitneyu\n",
    "\n",
    "stats.mannwhitneyu(yes_grp,no_grp)"
   ]
  },
  {
   "cell_type": "code",
   "execution_count": 55,
   "metadata": {},
   "outputs": [],
   "source": [
    "#as p value is less than 0.05,we can reject H0\n",
    "#there Yes_group median salary != no group median salary\n",
    "\n",
    "#perform post hoc analysis , as the two group medians are not same\n",
    "\n"
   ]
  },
  {
   "cell_type": "code",
   "execution_count": 56,
   "metadata": {},
   "outputs": [
    {
     "data": {
      "text/plain": [
       "<matplotlib.axes._subplots.AxesSubplot at 0x277290c3e08>"
      ]
     },
     "execution_count": 56,
     "metadata": {},
     "output_type": "execute_result"
    },
    {
     "data": {
      "image/png": "[encoded data removed]",
      "text/plain": [
       "<Figure size 432x288 with 1 Axes>"
      ]
     },
     "metadata": {
      "needs_background": "light"
     },
     "output_type": "display_data"
    }
   ],
   "source": [
    "sb.boxplot(x=data['Attrition'],y=data['MonthlyIncome'])"
   ]
  },
  {
   "cell_type": "code",
   "execution_count": 57,
   "metadata": {},
   "outputs": [
    {
     "data": {
      "text/plain": [
       "count      237.000000\n",
       "mean      4787.092827\n",
       "std       3640.210367\n",
       "min       1009.000000\n",
       "25%       2373.000000\n",
       "50%       3202.000000\n",
       "75%       5916.000000\n",
       "max      19859.000000\n",
       "Name: MonthlyIncome, dtype: float64"
      ]
     },
     "execution_count": 57,
     "metadata": {},
     "output_type": "execute_result"
    }
   ],
   "source": [
    "yes_grp.describe()"
   ]
  },
  {
   "cell_type": "code",
   "execution_count": 58,
   "metadata": {},
   "outputs": [],
   "source": [
    "#is the time taken for delivering the parcels of different resions are same are not\n",
    "\n",
    "#H0 = Avg time taken for region a= Region b= region c\n",
    "#Ha = Avg time taken for diffrent region is not same "
   ]
  },
  {
   "cell_type": "code",
   "execution_count": 59,
   "metadata": {},
   "outputs": [],
   "source": [
    "data1=pd.read_excel(\"https://raw.githubusercontent.com/tkseneee/Dataset/master/delivery.xlsx\")"
   ]
  },
  {
   "cell_type": "code",
   "execution_count": 60,
   "metadata": {},
   "outputs": [
    {
     "data": {
      "text/html": [
       "<div>\n",
       "<style scoped>\n",
       "    .dataframe tbody tr th:only-of-type {\n",
       "        vertical-align: middle;\n",
       "    }\n",
       "\n",
       "    .dataframe tbody tr th {\n",
       "        vertical-align: top;\n",
       "    }\n",
       "\n",
       "    .dataframe thead th {\n",
       "        text-align: right;\n",
       "    }\n",
       "</style>\n",
       "<table border=\"1\" class=\"dataframe\">\n",
       "  <thead>\n",
       "    <tr style=\"text-align: right;\">\n",
       "      <th></th>\n",
       "      <th>Trip</th>\n",
       "      <th>Region</th>\n",
       "      <th>Parcels</th>\n",
       "      <th>TruckAge</th>\n",
       "      <th>Minutes</th>\n",
       "    </tr>\n",
       "  </thead>\n",
       "  <tbody>\n",
       "    <tr>\n",
       "      <td>0</td>\n",
       "      <td>1</td>\n",
       "      <td>B</td>\n",
       "      <td>46</td>\n",
       "      <td>11</td>\n",
       "      <td>461.900000</td>\n",
       "    </tr>\n",
       "    <tr>\n",
       "      <td>1</td>\n",
       "      <td>2</td>\n",
       "      <td>B</td>\n",
       "      <td>32</td>\n",
       "      <td>1</td>\n",
       "      <td>273.100000</td>\n",
       "    </tr>\n",
       "    <tr>\n",
       "      <td>2</td>\n",
       "      <td>3</td>\n",
       "      <td>C</td>\n",
       "      <td>42</td>\n",
       "      <td>14</td>\n",
       "      <td>489.400000</td>\n",
       "    </tr>\n",
       "    <tr>\n",
       "      <td>3</td>\n",
       "      <td>4</td>\n",
       "      <td>B</td>\n",
       "      <td>30</td>\n",
       "      <td>13</td>\n",
       "      <td>303.000000</td>\n",
       "    </tr>\n",
       "    <tr>\n",
       "      <td>4</td>\n",
       "      <td>5</td>\n",
       "      <td>B</td>\n",
       "      <td>36</td>\n",
       "      <td>15</td>\n",
       "      <td>367.700000</td>\n",
       "    </tr>\n",
       "    <tr>\n",
       "      <td>5</td>\n",
       "      <td>6</td>\n",
       "      <td>C</td>\n",
       "      <td>45</td>\n",
       "      <td>5</td>\n",
       "      <td>415.200000</td>\n",
       "    </tr>\n",
       "    <tr>\n",
       "      <td>6</td>\n",
       "      <td>7</td>\n",
       "      <td>C</td>\n",
       "      <td>28</td>\n",
       "      <td>4</td>\n",
       "      <td>254.248120</td>\n",
       "    </tr>\n",
       "    <tr>\n",
       "      <td>7</td>\n",
       "      <td>8</td>\n",
       "      <td>C</td>\n",
       "      <td>26</td>\n",
       "      <td>15</td>\n",
       "      <td>258.999876</td>\n",
       "    </tr>\n",
       "    <tr>\n",
       "      <td>8</td>\n",
       "      <td>9</td>\n",
       "      <td>C</td>\n",
       "      <td>48</td>\n",
       "      <td>8</td>\n",
       "      <td>471.705964</td>\n",
       "    </tr>\n",
       "    <tr>\n",
       "      <td>9</td>\n",
       "      <td>10</td>\n",
       "      <td>C</td>\n",
       "      <td>36</td>\n",
       "      <td>11</td>\n",
       "      <td>367.700000</td>\n",
       "    </tr>\n",
       "    <tr>\n",
       "      <td>10</td>\n",
       "      <td>11</td>\n",
       "      <td>A</td>\n",
       "      <td>24</td>\n",
       "      <td>11</td>\n",
       "      <td>347.000000</td>\n",
       "    </tr>\n",
       "    <tr>\n",
       "      <td>11</td>\n",
       "      <td>12</td>\n",
       "      <td>C</td>\n",
       "      <td>35</td>\n",
       "      <td>5</td>\n",
       "      <td>381.927673</td>\n",
       "    </tr>\n",
       "    <tr>\n",
       "      <td>12</td>\n",
       "      <td>13</td>\n",
       "      <td>B</td>\n",
       "      <td>40</td>\n",
       "      <td>7</td>\n",
       "      <td>388.000000</td>\n",
       "    </tr>\n",
       "    <tr>\n",
       "      <td>13</td>\n",
       "      <td>14</td>\n",
       "      <td>C</td>\n",
       "      <td>20</td>\n",
       "      <td>13</td>\n",
       "      <td>228.036662</td>\n",
       "    </tr>\n",
       "    <tr>\n",
       "      <td>14</td>\n",
       "      <td>15</td>\n",
       "      <td>C</td>\n",
       "      <td>29</td>\n",
       "      <td>14</td>\n",
       "      <td>296.863772</td>\n",
       "    </tr>\n",
       "    <tr>\n",
       "      <td>15</td>\n",
       "      <td>16</td>\n",
       "      <td>B</td>\n",
       "      <td>48</td>\n",
       "      <td>10</td>\n",
       "      <td>474.400000</td>\n",
       "    </tr>\n",
       "    <tr>\n",
       "      <td>16</td>\n",
       "      <td>17</td>\n",
       "      <td>B</td>\n",
       "      <td>34</td>\n",
       "      <td>9</td>\n",
       "      <td>330.300000</td>\n",
       "    </tr>\n",
       "    <tr>\n",
       "      <td>17</td>\n",
       "      <td>18</td>\n",
       "      <td>A</td>\n",
       "      <td>34</td>\n",
       "      <td>9</td>\n",
       "      <td>447.900000</td>\n",
       "    </tr>\n",
       "    <tr>\n",
       "      <td>18</td>\n",
       "      <td>19</td>\n",
       "      <td>C</td>\n",
       "      <td>34</td>\n",
       "      <td>6</td>\n",
       "      <td>322.889022</td>\n",
       "    </tr>\n",
       "    <tr>\n",
       "      <td>19</td>\n",
       "      <td>20</td>\n",
       "      <td>C</td>\n",
       "      <td>24</td>\n",
       "      <td>6</td>\n",
       "      <td>227.119806</td>\n",
       "    </tr>\n",
       "    <tr>\n",
       "      <td>20</td>\n",
       "      <td>21</td>\n",
       "      <td>A</td>\n",
       "      <td>38</td>\n",
       "      <td>6</td>\n",
       "      <td>488.900000</td>\n",
       "    </tr>\n",
       "    <tr>\n",
       "      <td>21</td>\n",
       "      <td>22</td>\n",
       "      <td>B</td>\n",
       "      <td>42</td>\n",
       "      <td>2</td>\n",
       "      <td>380.600000</td>\n",
       "    </tr>\n",
       "    <tr>\n",
       "      <td>22</td>\n",
       "      <td>23</td>\n",
       "      <td>A</td>\n",
       "      <td>46</td>\n",
       "      <td>1</td>\n",
       "      <td>517.900000</td>\n",
       "    </tr>\n",
       "    <tr>\n",
       "      <td>23</td>\n",
       "      <td>24</td>\n",
       "      <td>C</td>\n",
       "      <td>38</td>\n",
       "      <td>1</td>\n",
       "      <td>333.500000</td>\n",
       "    </tr>\n",
       "    <tr>\n",
       "      <td>24</td>\n",
       "      <td>25</td>\n",
       "      <td>A</td>\n",
       "      <td>32</td>\n",
       "      <td>9</td>\n",
       "      <td>434.000000</td>\n",
       "    </tr>\n",
       "    <tr>\n",
       "      <td>25</td>\n",
       "      <td>26</td>\n",
       "      <td>B</td>\n",
       "      <td>44</td>\n",
       "      <td>7</td>\n",
       "      <td>419.000000</td>\n",
       "    </tr>\n",
       "    <tr>\n",
       "      <td>26</td>\n",
       "      <td>27</td>\n",
       "      <td>B</td>\n",
       "      <td>42</td>\n",
       "      <td>3</td>\n",
       "      <td>489.400000</td>\n",
       "    </tr>\n",
       "    <tr>\n",
       "      <td>27</td>\n",
       "      <td>28</td>\n",
       "      <td>A</td>\n",
       "      <td>26</td>\n",
       "      <td>14</td>\n",
       "      <td>381.400000</td>\n",
       "    </tr>\n",
       "    <tr>\n",
       "      <td>28</td>\n",
       "      <td>29</td>\n",
       "      <td>A</td>\n",
       "      <td>30</td>\n",
       "      <td>7</td>\n",
       "      <td>415.100000</td>\n",
       "    </tr>\n",
       "    <tr>\n",
       "      <td>29</td>\n",
       "      <td>30</td>\n",
       "      <td>A</td>\n",
       "      <td>36</td>\n",
       "      <td>8</td>\n",
       "      <td>464.400000</td>\n",
       "    </tr>\n",
       "    <tr>\n",
       "      <td>30</td>\n",
       "      <td>31</td>\n",
       "      <td>A</td>\n",
       "      <td>28</td>\n",
       "      <td>15</td>\n",
       "      <td>413.500000</td>\n",
       "    </tr>\n",
       "    <tr>\n",
       "      <td>31</td>\n",
       "      <td>32</td>\n",
       "      <td>B</td>\n",
       "      <td>24</td>\n",
       "      <td>6</td>\n",
       "      <td>228.600000</td>\n",
       "    </tr>\n",
       "    <tr>\n",
       "      <td>32</td>\n",
       "      <td>33</td>\n",
       "      <td>A</td>\n",
       "      <td>40</td>\n",
       "      <td>4</td>\n",
       "      <td>486.200000</td>\n",
       "    </tr>\n",
       "    <tr>\n",
       "      <td>33</td>\n",
       "      <td>34</td>\n",
       "      <td>B</td>\n",
       "      <td>38</td>\n",
       "      <td>1</td>\n",
       "      <td>333.500000</td>\n",
       "    </tr>\n",
       "    <tr>\n",
       "      <td>34</td>\n",
       "      <td>35</td>\n",
       "      <td>B</td>\n",
       "      <td>22</td>\n",
       "      <td>3</td>\n",
       "      <td>196.100000</td>\n",
       "    </tr>\n",
       "    <tr>\n",
       "      <td>35</td>\n",
       "      <td>36</td>\n",
       "      <td>B</td>\n",
       "      <td>28</td>\n",
       "      <td>5</td>\n",
       "      <td>264.100000</td>\n",
       "    </tr>\n",
       "    <tr>\n",
       "      <td>36</td>\n",
       "      <td>37</td>\n",
       "      <td>C</td>\n",
       "      <td>42</td>\n",
       "      <td>3</td>\n",
       "      <td>380.600000</td>\n",
       "    </tr>\n",
       "    <tr>\n",
       "      <td>37</td>\n",
       "      <td>38</td>\n",
       "      <td>B</td>\n",
       "      <td>20</td>\n",
       "      <td>15</td>\n",
       "      <td>216.700000</td>\n",
       "    </tr>\n",
       "    <tr>\n",
       "      <td>38</td>\n",
       "      <td>39</td>\n",
       "      <td>A</td>\n",
       "      <td>48</td>\n",
       "      <td>2</td>\n",
       "      <td>546.300000</td>\n",
       "    </tr>\n",
       "    <tr>\n",
       "      <td>39</td>\n",
       "      <td>40</td>\n",
       "      <td>C</td>\n",
       "      <td>22</td>\n",
       "      <td>4</td>\n",
       "      <td>204.058352</td>\n",
       "    </tr>\n",
       "    <tr>\n",
       "      <td>40</td>\n",
       "      <td>41</td>\n",
       "      <td>C</td>\n",
       "      <td>32</td>\n",
       "      <td>2</td>\n",
       "      <td>265.374389</td>\n",
       "    </tr>\n",
       "    <tr>\n",
       "      <td>41</td>\n",
       "      <td>42</td>\n",
       "      <td>B</td>\n",
       "      <td>26</td>\n",
       "      <td>14</td>\n",
       "      <td>264.900000</td>\n",
       "    </tr>\n",
       "    <tr>\n",
       "      <td>42</td>\n",
       "      <td>43</td>\n",
       "      <td>C</td>\n",
       "      <td>44</td>\n",
       "      <td>4</td>\n",
       "      <td>419.000000</td>\n",
       "    </tr>\n",
       "    <tr>\n",
       "      <td>43</td>\n",
       "      <td>44</td>\n",
       "      <td>A</td>\n",
       "      <td>22</td>\n",
       "      <td>12</td>\n",
       "      <td>321.300000</td>\n",
       "    </tr>\n",
       "    <tr>\n",
       "      <td>44</td>\n",
       "      <td>45</td>\n",
       "      <td>C</td>\n",
       "      <td>51</td>\n",
       "      <td>9</td>\n",
       "      <td>464.555801</td>\n",
       "    </tr>\n",
       "    <tr>\n",
       "      <td>45</td>\n",
       "      <td>46</td>\n",
       "      <td>A</td>\n",
       "      <td>44</td>\n",
       "      <td>1</td>\n",
       "      <td>506.600000</td>\n",
       "    </tr>\n",
       "    <tr>\n",
       "      <td>46</td>\n",
       "      <td>47</td>\n",
       "      <td>A</td>\n",
       "      <td>20</td>\n",
       "      <td>15</td>\n",
       "      <td>315.700000</td>\n",
       "    </tr>\n",
       "  </tbody>\n",
       "</table>\n",
       "</div>"
      ],
      "text/plain": [
       "    Trip Region  Parcels  TruckAge     Minutes\n",
       "0      1      B       46        11  461.900000\n",
       "1      2      B       32         1  273.100000\n",
       "2      3      C       42        14  489.400000\n",
       "3      4      B       30        13  303.000000\n",
       "4      5      B       36        15  367.700000\n",
       "5      6      C       45         5  415.200000\n",
       "6      7      C       28         4  254.248120\n",
       "7      8      C       26        15  258.999876\n",
       "8      9      C       48         8  471.705964\n",
       "9     10      C       36        11  367.700000\n",
       "10    11      A       24        11  347.000000\n",
       "11    12      C       35         5  381.927673\n",
       "12    13      B       40         7  388.000000\n",
       "13    14      C       20        13  228.036662\n",
       "14    15      C       29        14  296.863772\n",
       "15    16      B       48        10  474.400000\n",
       "16    17      B       34         9  330.300000\n",
       "17    18      A       34         9  447.900000\n",
       "18    19      C       34         6  322.889022\n",
       "19    20      C       24         6  227.119806\n",
       "20    21      A       38         6  488.900000\n",
       "21    22      B       42         2  380.600000\n",
       "22    23      A       46         1  517.900000\n",
       "23    24      C       38         1  333.500000\n",
       "24    25      A       32         9  434.000000\n",
       "25    26      B       44         7  419.000000\n",
       "26    27      B       42         3  489.400000\n",
       "27    28      A       26        14  381.400000\n",
       "28    29      A       30         7  415.100000\n",
       "29    30      A       36         8  464.400000\n",
       "30    31      A       28        15  413.500000\n",
       "31    32      B       24         6  228.600000\n",
       "32    33      A       40         4  486.200000\n",
       "33    34      B       38         1  333.500000\n",
       "34    35      B       22         3  196.100000\n",
       "35    36      B       28         5  264.100000\n",
       "36    37      C       42         3  380.600000\n",
       "37    38      B       20        15  216.700000\n",
       "38    39      A       48         2  546.300000\n",
       "39    40      C       22         4  204.058352\n",
       "40    41      C       32         2  265.374389\n",
       "41    42      B       26        14  264.900000\n",
       "42    43      C       44         4  419.000000\n",
       "43    44      A       22        12  321.300000\n",
       "44    45      C       51         9  464.555801\n",
       "45    46      A       44         1  506.600000\n",
       "46    47      A       20        15  315.700000"
      ]
     },
     "execution_count": 60,
     "metadata": {},
     "output_type": "execute_result"
    }
   ],
   "source": [
    "data1"
   ]
  },
  {
   "cell_type": "code",
   "execution_count": 61,
   "metadata": {},
   "outputs": [],
   "source": [
    "regA = data1[data1['Region']=='A']['Minutes']"
   ]
  },
  {
   "cell_type": "code",
   "execution_count": 62,
   "metadata": {},
   "outputs": [],
   "source": [
    "regB = data1[data1['Region']=='B']['Minutes']"
   ]
  },
  {
   "cell_type": "code",
   "execution_count": 63,
   "metadata": {},
   "outputs": [],
   "source": [
    "regC = data1[data1['Region']=='C']['Minutes']"
   ]
  },
  {
   "cell_type": "code",
   "execution_count": 64,
   "metadata": {},
   "outputs": [
    {
     "data": {
      "text/plain": [
       "(0.960594654083252, 0.11359358578920364)"
      ]
     },
     "execution_count": 64,
     "metadata": {},
     "output_type": "execute_result"
    }
   ],
   "source": [
    "stats.shapiro(data1['Minutes'])"
   ]
  },
  {
   "cell_type": "code",
   "execution_count": 65,
   "metadata": {},
   "outputs": [
    {
     "data": {
      "text/plain": [
       "((0.9557192921638489, 0.652435302734375),\n",
       " (0.9534902572631836, 0.5469147562980652),\n",
       " (0.9429660439491272, 0.35506492853164673))"
      ]
     },
     "execution_count": 65,
     "metadata": {},
     "output_type": "execute_result"
    }
   ],
   "source": [
    "stats.shapiro(regA),stats.shapiro(regB),stats.shapiro(regC)"
   ]
  },
  {
   "cell_type": "code",
   "execution_count": 66,
   "metadata": {},
   "outputs": [
    {
     "data": {
      "text/plain": [
       "LeveneResult(statistic=0.8293783603132302, pvalue=0.44302587134241256)"
      ]
     },
     "execution_count": 66,
     "metadata": {},
     "output_type": "execute_result"
    }
   ],
   "source": [
    "stats.levene(regA,regB,regC)"
   ]
  },
  {
   "cell_type": "code",
   "execution_count": 67,
   "metadata": {},
   "outputs": [
    {
     "data": {
      "text/plain": [
       "F_onewayResult(statistic=5.921973833733367, pvalue=0.005278182848779454)"
      ]
     },
     "execution_count": 67,
     "metadata": {},
     "output_type": "execute_result"
    }
   ],
   "source": [
    "#anova \n",
    "stats.f_oneway(regA,regB,regC)"
   ]
  },
  {
   "cell_type": "code",
   "execution_count": 68,
   "metadata": {},
   "outputs": [],
   "source": [
    "#since\n",
    "#we bneed to do post hoc analysis to understand the mean distance"
   ]
  },
  {
   "cell_type": "code",
   "execution_count": 69,
   "metadata": {},
   "outputs": [
    {
     "data": {
      "text/plain": [
       "<matplotlib.axes._subplots.AxesSubplot at 0x27729276548>"
      ]
     },
     "execution_count": 69,
     "metadata": {},
     "output_type": "execute_result"
    },
    {
     "data": {
      "image/png": "[encoded data removed]",
      "text/plain": [
       "<Figure size 432x288 with 1 Axes>"
      ]
     },
     "metadata": {
      "needs_background": "light"
     },
     "output_type": "display_data"
    }
   ],
   "source": [
    "sb.boxplot(x=data1[\"Region\"],y=data1['Minutes'])"
   ]
  },
  {
   "cell_type": "code",
   "execution_count": 70,
   "metadata": {},
   "outputs": [
    {
     "data": {
      "text/plain": [
       "<matplotlib.axes._subplots.AxesSubplot at 0x277292f49c8>"
      ]
     },
     "execution_count": 70,
     "metadata": {},
     "output_type": "execute_result"
    },
    {
     "data": {
      "image/png": "[encoded data removed]",
      "text/plain": [
       "<Figure size 432x288 with 1 Axes>"
      ]
     },
     "metadata": {
      "needs_background": "light"
     },
     "output_type": "display_data"
    }
   ],
   "source": [
    "sb.boxplot(x=data1[\"Region\"],y=data1['TruckAge'])"
   ]
  },
  {
   "cell_type": "code",
   "execution_count": 71,
   "metadata": {},
   "outputs": [
    {
     "data": {
      "text/plain": [
       "<matplotlib.axes._subplots.AxesSubplot at 0x27729388408>"
      ]
     },
     "execution_count": 71,
     "metadata": {},
     "output_type": "execute_result"
    },
    {
     "data": {
      "image/png": "[encoded data removed]",
      "text/plain": [
       "<Figure size 432x288 with 1 Axes>"
      ]
     },
     "metadata": {
      "needs_background": "light"
     },
     "output_type": "display_data"
    }
   ],
   "source": [
    "sb.scatterplot(x=data1['Minutes'],y=data1['TruckAge'],hue=data1['Region'])"
   ]
  },
  {
   "cell_type": "code",
   "execution_count": 72,
   "metadata": {},
   "outputs": [],
   "source": [
    "#Impact of bussiness travel on Attrition - cat vs cat - Chi square"
   ]
  },
  {
   "cell_type": "code",
   "execution_count": 75,
   "metadata": {},
   "outputs": [],
   "source": [
    "import pandas as pd\n",
    "tab=pd.crosstab(data['BusinessTravel'],data['Attrition'])"
   ]
  },
  {
   "cell_type": "code",
   "execution_count": 76,
   "metadata": {},
   "outputs": [
    {
     "data": {
      "text/html": [
       "<div>\n",
       "<style scoped>\n",
       "    .dataframe tbody tr th:only-of-type {\n",
       "        vertical-align: middle;\n",
       "    }\n",
       "\n",
       "    .dataframe tbody tr th {\n",
       "        vertical-align: top;\n",
       "    }\n",
       "\n",
       "    .dataframe thead th {\n",
       "        text-align: right;\n",
       "    }\n",
       "</style>\n",
       "<table border=\"1\" class=\"dataframe\">\n",
       "  <thead>\n",
       "    <tr style=\"text-align: right;\">\n",
       "      <th>Attrition</th>\n",
       "      <th>No</th>\n",
       "      <th>Yes</th>\n",
       "    </tr>\n",
       "    <tr>\n",
       "      <th>BusinessTravel</th>\n",
       "      <th></th>\n",
       "      <th></th>\n",
       "    </tr>\n",
       "  </thead>\n",
       "  <tbody>\n",
       "    <tr>\n",
       "      <td>1</td>\n",
       "      <td>887</td>\n",
       "      <td>156</td>\n",
       "    </tr>\n",
       "    <tr>\n",
       "      <td>2</td>\n",
       "      <td>208</td>\n",
       "      <td>69</td>\n",
       "    </tr>\n",
       "    <tr>\n",
       "      <td>3</td>\n",
       "      <td>138</td>\n",
       "      <td>12</td>\n",
       "    </tr>\n",
       "  </tbody>\n",
       "</table>\n",
       "</div>"
      ],
      "text/plain": [
       "Attrition        No  Yes\n",
       "BusinessTravel          \n",
       "1               887  156\n",
       "2               208   69\n",
       "3               138   12"
      ]
     },
     "execution_count": 76,
     "metadata": {},
     "output_type": "execute_result"
    }
   ],
   "source": [
    "tab"
   ]
  },
  {
   "cell_type": "code",
   "execution_count": 77,
   "metadata": {},
   "outputs": [
    {
     "data": {
      "text/html": [
       "<div>\n",
       "<style scoped>\n",
       "    .dataframe tbody tr th:only-of-type {\n",
       "        vertical-align: middle;\n",
       "    }\n",
       "\n",
       "    .dataframe tbody tr th {\n",
       "        vertical-align: top;\n",
       "    }\n",
       "\n",
       "    .dataframe thead th {\n",
       "        text-align: right;\n",
       "    }\n",
       "</style>\n",
       "<table border=\"1\" class=\"dataframe\">\n",
       "  <thead>\n",
       "    <tr style=\"text-align: right;\">\n",
       "      <th>Attrition</th>\n",
       "      <th>No</th>\n",
       "      <th>Yes</th>\n",
       "    </tr>\n",
       "    <tr>\n",
       "      <th>BusinessTravel</th>\n",
       "      <th></th>\n",
       "      <th></th>\n",
       "    </tr>\n",
       "  </thead>\n",
       "  <tbody>\n",
       "    <tr>\n",
       "      <td>1</td>\n",
       "      <td>0.719384</td>\n",
       "      <td>0.658228</td>\n",
       "    </tr>\n",
       "    <tr>\n",
       "      <td>2</td>\n",
       "      <td>0.168694</td>\n",
       "      <td>0.291139</td>\n",
       "    </tr>\n",
       "    <tr>\n",
       "      <td>3</td>\n",
       "      <td>0.111922</td>\n",
       "      <td>0.050633</td>\n",
       "    </tr>\n",
       "  </tbody>\n",
       "</table>\n",
       "</div>"
      ],
      "text/plain": [
       "Attrition             No       Yes\n",
       "BusinessTravel                    \n",
       "1               0.719384  0.658228\n",
       "2               0.168694  0.291139\n",
       "3               0.111922  0.050633"
      ]
     },
     "execution_count": 77,
     "metadata": {},
     "output_type": "execute_result"
    }
   ],
   "source": [
    "pd.crosstab(data['BusinessTravel'],data['Attrition'])/data['Attrition'].value_counts()"
   ]
  },
  {
   "cell_type": "code",
   "execution_count": 78,
   "metadata": {},
   "outputs": [
    {
     "data": {
      "text/html": [
       "<div>\n",
       "<style scoped>\n",
       "    .dataframe tbody tr th:only-of-type {\n",
       "        vertical-align: middle;\n",
       "    }\n",
       "\n",
       "    .dataframe tbody tr th {\n",
       "        vertical-align: top;\n",
       "    }\n",
       "\n",
       "    .dataframe thead th {\n",
       "        text-align: right;\n",
       "    }\n",
       "</style>\n",
       "<table border=\"1\" class=\"dataframe\">\n",
       "  <thead>\n",
       "    <tr style=\"text-align: right;\">\n",
       "      <th>BusinessTravel</th>\n",
       "      <th>1</th>\n",
       "      <th>2</th>\n",
       "      <th>3</th>\n",
       "    </tr>\n",
       "    <tr>\n",
       "      <th>Attrition</th>\n",
       "      <th></th>\n",
       "      <th></th>\n",
       "      <th></th>\n",
       "    </tr>\n",
       "  </thead>\n",
       "  <tbody>\n",
       "    <tr>\n",
       "      <td>No</td>\n",
       "      <td>0.850431</td>\n",
       "      <td>0.750903</td>\n",
       "      <td>0.92</td>\n",
       "    </tr>\n",
       "    <tr>\n",
       "      <td>Yes</td>\n",
       "      <td>0.149569</td>\n",
       "      <td>0.249097</td>\n",
       "      <td>0.08</td>\n",
       "    </tr>\n",
       "  </tbody>\n",
       "</table>\n",
       "</div>"
      ],
      "text/plain": [
       "BusinessTravel         1         2     3\n",
       "Attrition                               \n",
       "No              0.850431  0.750903  0.92\n",
       "Yes             0.149569  0.249097  0.08"
      ]
     },
     "execution_count": 78,
     "metadata": {},
     "output_type": "execute_result"
    }
   ],
   "source": [
    "pd.crosstab(data['Attrition'],data['BusinessTravel'])/data['BusinessTravel'].value_counts()"
   ]
  },
  {
   "cell_type": "code",
   "execution_count": 79,
   "metadata": {},
   "outputs": [],
   "source": [
    "_,p,_,_=stats.chi2_contingency(tab)"
   ]
  },
  {
   "cell_type": "code",
   "execution_count": 80,
   "metadata": {},
   "outputs": [
    {
     "data": {
      "text/plain": [
       "(24.182413685655174,\n",
       " 5.608614476449931e-06,\n",
       " 2,\n",
       " array([[874.84285714, 168.15714286],\n",
       "        [232.34081633,  44.65918367],\n",
       "        [125.81632653,  24.18367347]]))"
      ]
     },
     "execution_count": 80,
     "metadata": {},
     "output_type": "execute_result"
    }
   ],
   "source": [
    "stats.chi2_contingency(tab)"
   ]
  },
  {
   "cell_type": "code",
   "execution_count": 81,
   "metadata": {},
   "outputs": [
    {
     "data": {
      "text/plain": [
       "5.608614476449931e-06"
      ]
     },
     "execution_count": 81,
     "metadata": {},
     "output_type": "execute_result"
    }
   ],
   "source": [
    "p"
   ]
  },
  {
   "cell_type": "markdown",
   "metadata": {},
   "source": [
    "# linear regression"
   ]
  },
  {
   "cell_type": "code",
   "execution_count": 84,
   "metadata": {},
   "outputs": [],
   "source": [
    "data2=pd.read_csv(\"https://raw.githubusercontent.com/tkseneee/Dataset/master/Concrete_Data.csv\")"
   ]
  },
  {
   "cell_type": "code",
   "execution_count": 89,
   "metadata": {},
   "outputs": [
    {
     "data": {
      "text/html": [
       "<div>\n",
       "<style scoped>\n",
       "    .dataframe tbody tr th:only-of-type {\n",
       "        vertical-align: middle;\n",
       "    }\n",
       "\n",
       "    .dataframe tbody tr th {\n",
       "        vertical-align: top;\n",
       "    }\n",
       "\n",
       "    .dataframe thead th {\n",
       "        text-align: right;\n",
       "    }\n",
       "</style>\n",
       "<table border=\"1\" class=\"dataframe\">\n",
       "  <thead>\n",
       "    <tr style=\"text-align: right;\">\n",
       "      <th></th>\n",
       "      <th>Cement</th>\n",
       "      <th>Blast</th>\n",
       "      <th>Fly Ash</th>\n",
       "      <th>Water</th>\n",
       "      <th>Superplasticizer</th>\n",
       "      <th>CA</th>\n",
       "      <th>FA</th>\n",
       "      <th>Age</th>\n",
       "      <th>CMS</th>\n",
       "    </tr>\n",
       "  </thead>\n",
       "  <tbody>\n",
       "    <tr>\n",
       "      <td>0</td>\n",
       "      <td>540.0</td>\n",
       "      <td>0.0</td>\n",
       "      <td>0.0</td>\n",
       "      <td>162.0</td>\n",
       "      <td>2.5</td>\n",
       "      <td>1040.0</td>\n",
       "      <td>676.0</td>\n",
       "      <td>28</td>\n",
       "      <td>79.99</td>\n",
       "    </tr>\n",
       "    <tr>\n",
       "      <td>1</td>\n",
       "      <td>540.0</td>\n",
       "      <td>0.0</td>\n",
       "      <td>0.0</td>\n",
       "      <td>162.0</td>\n",
       "      <td>2.5</td>\n",
       "      <td>1055.0</td>\n",
       "      <td>676.0</td>\n",
       "      <td>28</td>\n",
       "      <td>61.89</td>\n",
       "    </tr>\n",
       "    <tr>\n",
       "      <td>2</td>\n",
       "      <td>332.5</td>\n",
       "      <td>142.5</td>\n",
       "      <td>0.0</td>\n",
       "      <td>228.0</td>\n",
       "      <td>0.0</td>\n",
       "      <td>932.0</td>\n",
       "      <td>594.0</td>\n",
       "      <td>270</td>\n",
       "      <td>40.27</td>\n",
       "    </tr>\n",
       "    <tr>\n",
       "      <td>3</td>\n",
       "      <td>332.5</td>\n",
       "      <td>142.5</td>\n",
       "      <td>0.0</td>\n",
       "      <td>228.0</td>\n",
       "      <td>0.0</td>\n",
       "      <td>932.0</td>\n",
       "      <td>594.0</td>\n",
       "      <td>365</td>\n",
       "      <td>41.05</td>\n",
       "    </tr>\n",
       "    <tr>\n",
       "      <td>4</td>\n",
       "      <td>198.6</td>\n",
       "      <td>132.4</td>\n",
       "      <td>0.0</td>\n",
       "      <td>192.0</td>\n",
       "      <td>0.0</td>\n",
       "      <td>978.4</td>\n",
       "      <td>825.5</td>\n",
       "      <td>360</td>\n",
       "      <td>44.30</td>\n",
       "    </tr>\n",
       "  </tbody>\n",
       "</table>\n",
       "</div>"
      ],
      "text/plain": [
       "   Cement  Blast  Fly Ash  Water  Superplasticizer      CA     FA  Age    CMS\n",
       "0   540.0    0.0      0.0  162.0               2.5  1040.0  676.0   28  79.99\n",
       "1   540.0    0.0      0.0  162.0               2.5  1055.0  676.0   28  61.89\n",
       "2   332.5  142.5      0.0  228.0               0.0   932.0  594.0  270  40.27\n",
       "3   332.5  142.5      0.0  228.0               0.0   932.0  594.0  365  41.05\n",
       "4   198.6  132.4      0.0  192.0               0.0   978.4  825.5  360  44.30"
      ]
     },
     "execution_count": 89,
     "metadata": {},
     "output_type": "execute_result"
    }
   ],
   "source": [
    "data2.head(5)"
   ]
  },
  {
   "cell_type": "code",
   "execution_count": 90,
   "metadata": {},
   "outputs": [],
   "source": [
    "out=data2['CMS']\n"
   ]
  },
  {
   "cell_type": "code",
   "execution_count": 91,
   "metadata": {},
   "outputs": [],
   "source": [
    "inp=data2.drop('CMS',axis=1)"
   ]
  },
  {
   "cell_type": "code",
   "execution_count": 92,
   "metadata": {},
   "outputs": [
    {
     "data": {
      "text/html": [
       "<div>\n",
       "<style scoped>\n",
       "    .dataframe tbody tr th:only-of-type {\n",
       "        vertical-align: middle;\n",
       "    }\n",
       "\n",
       "    .dataframe tbody tr th {\n",
       "        vertical-align: top;\n",
       "    }\n",
       "\n",
       "    .dataframe thead th {\n",
       "        text-align: right;\n",
       "    }\n",
       "</style>\n",
       "<table border=\"1\" class=\"dataframe\">\n",
       "  <thead>\n",
       "    <tr style=\"text-align: right;\">\n",
       "      <th></th>\n",
       "      <th>Cement</th>\n",
       "      <th>Blast</th>\n",
       "      <th>Fly Ash</th>\n",
       "      <th>Water</th>\n",
       "      <th>Superplasticizer</th>\n",
       "      <th>CA</th>\n",
       "      <th>FA</th>\n",
       "      <th>Age</th>\n",
       "    </tr>\n",
       "  </thead>\n",
       "  <tbody>\n",
       "    <tr>\n",
       "      <td>0</td>\n",
       "      <td>540.0</td>\n",
       "      <td>0.0</td>\n",
       "      <td>0.0</td>\n",
       "      <td>162.0</td>\n",
       "      <td>2.5</td>\n",
       "      <td>1040.0</td>\n",
       "      <td>676.0</td>\n",
       "      <td>28</td>\n",
       "    </tr>\n",
       "    <tr>\n",
       "      <td>1</td>\n",
       "      <td>540.0</td>\n",
       "      <td>0.0</td>\n",
       "      <td>0.0</td>\n",
       "      <td>162.0</td>\n",
       "      <td>2.5</td>\n",
       "      <td>1055.0</td>\n",
       "      <td>676.0</td>\n",
       "      <td>28</td>\n",
       "    </tr>\n",
       "  </tbody>\n",
       "</table>\n",
       "</div>"
      ],
      "text/plain": [
       "   Cement  Blast  Fly Ash  Water  Superplasticizer      CA     FA  Age\n",
       "0   540.0    0.0      0.0  162.0               2.5  1040.0  676.0   28\n",
       "1   540.0    0.0      0.0  162.0               2.5  1055.0  676.0   28"
      ]
     },
     "execution_count": 92,
     "metadata": {},
     "output_type": "execute_result"
    }
   ],
   "source": [
    "inp.head(2)"
   ]
  },
  {
   "cell_type": "code",
   "execution_count": 93,
   "metadata": {},
   "outputs": [],
   "source": [
    "from sklearn.model_selection import train_test_split"
   ]
  },
  {
   "cell_type": "code",
   "execution_count": 94,
   "metadata": {},
   "outputs": [],
   "source": [
    "xtrain,xtest,ytrain,ytest = train_test_split(inp,out,test_size=0.3,random_state=40)"
   ]
  },
  {
   "cell_type": "code",
   "execution_count": 95,
   "metadata": {},
   "outputs": [
    {
     "name": "stdout",
     "output_type": "stream",
     "text": [
      "(1030, 8)\n",
      "(721, 8)\n",
      "(309, 8)\n"
     ]
    }
   ],
   "source": [
    "print(inp.shape)\n",
    "print(xtrain.shape)\n",
    "print(xtest.shape)"
   ]
  },
  {
   "cell_type": "code",
   "execution_count": 97,
   "metadata": {},
   "outputs": [
    {
     "name": "stdout",
     "output_type": "stream",
     "text": [
      "(1030,)\n",
      "(721,)\n",
      "(309,)\n"
     ]
    }
   ],
   "source": [
    "print(out.shape)\n",
    "print(ytrain.shape)\n",
    "print(ytest.shape)"
   ]
  },
  {
   "cell_type": "code",
   "execution_count": 98,
   "metadata": {},
   "outputs": [],
   "source": [
    "from sklearn.linear_model import LinearRegression"
   ]
  },
  {
   "cell_type": "code",
   "execution_count": 99,
   "metadata": {},
   "outputs": [
    {
     "data": {
      "text/plain": [
       "LinearRegression(copy_X=True, fit_intercept=True, n_jobs=None, normalize=False)"
      ]
     },
     "execution_count": 99,
     "metadata": {},
     "output_type": "execute_result"
    }
   ],
   "source": [
    "#raining statge\n",
    "\n",
    "lr=LinearRegression()\n",
    "lr.fit(xtrain,ytrain)"
   ]
  },
  {
   "cell_type": "code",
   "execution_count": 100,
   "metadata": {},
   "outputs": [
    {
     "data": {
      "text/plain": [
       "array([ 0.1260017 ,  0.11793314,  0.09729948, -0.09693434,  0.32923801,\n",
       "        0.02937798,  0.02709272,  0.12678819])"
      ]
     },
     "execution_count": 100,
     "metadata": {},
     "output_type": "execute_result"
    }
   ],
   "source": [
    "lr.coef_"
   ]
  },
  {
   "cell_type": "code",
   "execution_count": 101,
   "metadata": {},
   "outputs": [
    {
     "data": {
      "text/plain": [
       "Index(['Cement', 'Blast', 'Fly Ash', 'Water', 'Superplasticizer', 'CA', 'FA',\n",
       "       'Age'],\n",
       "      dtype='object')"
      ]
     },
     "execution_count": 101,
     "metadata": {},
     "output_type": "execute_result"
    }
   ],
   "source": [
    "xtrain.columns"
   ]
  },
  {
   "cell_type": "code",
   "execution_count": 103,
   "metadata": {},
   "outputs": [],
   "source": [
    "coef=pd.DataFrame()"
   ]
  },
  {
   "cell_type": "code",
   "execution_count": 104,
   "metadata": {},
   "outputs": [
    {
     "data": {
      "text/html": [
       "<div>\n",
       "<style scoped>\n",
       "    .dataframe tbody tr th:only-of-type {\n",
       "        vertical-align: middle;\n",
       "    }\n",
       "\n",
       "    .dataframe tbody tr th {\n",
       "        vertical-align: top;\n",
       "    }\n",
       "\n",
       "    .dataframe thead th {\n",
       "        text-align: right;\n",
       "    }\n",
       "</style>\n",
       "<table border=\"1\" class=\"dataframe\">\n",
       "  <thead>\n",
       "    <tr style=\"text-align: right;\">\n",
       "      <th></th>\n",
       "      <th>feature</th>\n",
       "      <th>Coefficents</th>\n",
       "    </tr>\n",
       "  </thead>\n",
       "  <tbody>\n",
       "    <tr>\n",
       "      <td>0</td>\n",
       "      <td>Cement</td>\n",
       "      <td>0.126002</td>\n",
       "    </tr>\n",
       "    <tr>\n",
       "      <td>1</td>\n",
       "      <td>Blast</td>\n",
       "      <td>0.117933</td>\n",
       "    </tr>\n",
       "    <tr>\n",
       "      <td>2</td>\n",
       "      <td>Fly Ash</td>\n",
       "      <td>0.097299</td>\n",
       "    </tr>\n",
       "    <tr>\n",
       "      <td>3</td>\n",
       "      <td>Water</td>\n",
       "      <td>-0.096934</td>\n",
       "    </tr>\n",
       "    <tr>\n",
       "      <td>4</td>\n",
       "      <td>Superplasticizer</td>\n",
       "      <td>0.329238</td>\n",
       "    </tr>\n",
       "    <tr>\n",
       "      <td>5</td>\n",
       "      <td>CA</td>\n",
       "      <td>0.029378</td>\n",
       "    </tr>\n",
       "    <tr>\n",
       "      <td>6</td>\n",
       "      <td>FA</td>\n",
       "      <td>0.027093</td>\n",
       "    </tr>\n",
       "    <tr>\n",
       "      <td>7</td>\n",
       "      <td>Age</td>\n",
       "      <td>0.126788</td>\n",
       "    </tr>\n",
       "  </tbody>\n",
       "</table>\n",
       "</div>"
      ],
      "text/plain": [
       "            feature  Coefficents\n",
       "0            Cement     0.126002\n",
       "1             Blast     0.117933\n",
       "2           Fly Ash     0.097299\n",
       "3             Water    -0.096934\n",
       "4  Superplasticizer     0.329238\n",
       "5                CA     0.029378\n",
       "6                FA     0.027093\n",
       "7               Age     0.126788"
      ]
     },
     "execution_count": 104,
     "metadata": {},
     "output_type": "execute_result"
    }
   ],
   "source": [
    "coef['feature']=xtrain.columns\n",
    "coef['Coefficents']=lr.coef_\n",
    "coef"
   ]
  },
  {
   "cell_type": "code",
   "execution_count": 106,
   "metadata": {},
   "outputs": [],
   "source": [
    "ypred=lr.predict(xtest)"
   ]
  },
  {
   "cell_type": "code",
   "execution_count": 107,
   "metadata": {},
   "outputs": [
    {
     "data": {
      "text/plain": [
       "array([15.06362052, 27.88672853, 33.51175767, 26.70994765, 37.01547854,\n",
       "       62.87190032, 17.42798558, 20.82270935, 52.15233032, 49.27820973])"
      ]
     },
     "execution_count": 107,
     "metadata": {},
     "output_type": "execute_result"
    }
   ],
   "source": [
    "ypred[:10]"
   ]
  },
  {
   "cell_type": "code",
   "execution_count": 108,
   "metadata": {},
   "outputs": [
    {
     "data": {
      "text/plain": [
       "808    11.47\n",
       "281    32.66\n",
       "243    40.86\n",
       "589    31.90\n",
       "283    44.21\n",
       "136    74.50\n",
       "966    12.46\n",
       "14     47.81\n",
       "0      79.99\n",
       "752    59.76\n",
       "Name: CMS, dtype: float64"
      ]
     },
     "execution_count": 108,
     "metadata": {},
     "output_type": "execute_result"
    }
   ],
   "source": [
    "ytest.head(10)"
   ]
  },
  {
   "cell_type": "code",
   "execution_count": null,
   "metadata": {},
   "outputs": [],
   "source": []
  }
 ],
 "metadata": {
  "kernelspec": {
   "display_name": "Python 3",
   "language": "python",
   "name": "python3"
  },
  "language_info": {
   "codemirror_mode": {
    "name": "ipython",
    "version": 3
   },
   "file_extension": ".py",
   "mimetype": "text/x-python",
   "name": "python",
   "nbconvert_exporter": "python",
   "pygments_lexer": "ipython3",
   "version": "3.7.4"
  }
 },
 "nbformat": 4,
 "nbformat_minor": 2
}
