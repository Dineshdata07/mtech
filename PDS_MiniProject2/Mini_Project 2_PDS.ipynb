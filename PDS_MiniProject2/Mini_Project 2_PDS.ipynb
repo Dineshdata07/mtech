{
 "cells": [
  {
   "cell_type": "markdown",
   "metadata": {
    "colab_type": "text",
    "id": "p0xWds-wWyXS"
   },
   "source": [
    "<table align=\"center\" width=100%>\n",
    "    <tr>\n",
    "        <td width=\"15%\">\n",
    "            <img src=\"homework.png\">\n",
    "        </td>\n",
    "        <td>\n",
    "            <div align=\"center\">\n",
    "                <font color=\"#21618C\" size=8px>\n",
    "                    <b> PDS Mini Project 2 <br>\n",
    "                    </b>\n",
    "                </font>\n",
    "            </div>\n",
    "        </td>\n",
    "    </tr>\n",
    "</table>"
   ]
  },
  {
   "cell_type": "markdown",
   "metadata": {
    "colab_type": "text",
    "id": "xx9a2vlpWyXT"
   },
   "source": [
    "### Give your Team Details\n",
    "\n",
    "## Group Number: \n",
    "\n",
    "## Team Name\n",
    "1. \n",
    "2.\n",
    "3."
   ]
  },
  {
   "cell_type": "markdown",
   "metadata": {},
   "source": [
    "##### Add comments and inferences about the solutions."
   ]
  },
  {
   "cell_type": "markdown",
   "metadata": {},
   "source": [
    "### 1. Create a dataframe named 'europe_df' which has names of countries in europe, their capital and their population. (2 marks)"
   ]
  },
  {
   "cell_type": "markdown",
   "metadata": {
    "colab_type": "text",
    "id": "GyUSFAnRSue0"
   },
   "source": [
    "europe_dict = {\n",
    "       \"Country\":[\"Spain\",\"France\",\"Germany\",\"Norway\"],\n",
    "       \"Capital\":[\"Madrid\",\"Paris\",\"Berlin\",\"Oslo\"],\n",
    "       \"Population\":[46.77,66.03,80.62,5.084]\n",
    "}"
   ]
  },
  {
   "cell_type": "code",
   "execution_count": null,
   "metadata": {},
   "outputs": [],
   "source": []
  },
  {
   "cell_type": "code",
   "execution_count": null,
   "metadata": {},
   "outputs": [],
   "source": []
  },
  {
   "cell_type": "markdown",
   "metadata": {
    "colab": {},
    "colab_type": "code",
    "id": "V4fZ7babWyXU"
   },
   "source": [
    "### 2. Use the data from question 1 and add a new column 'FamousFor'. The column should indicate what each country is famous for. (2 marks)"
   ]
  },
  {
   "cell_type": "code",
   "execution_count": 0,
   "metadata": {
    "colab": {},
    "colab_type": "code",
    "id": "3NoCImisWyXZ"
   },
   "outputs": [],
   "source": [
    "# type your data here"
   ]
  },
  {
   "cell_type": "code",
   "execution_count": null,
   "metadata": {},
   "outputs": [],
   "source": []
  },
  {
   "cell_type": "markdown",
   "metadata": {
    "colab_type": "text",
    "id": "g5BRVBigWyXc"
   },
   "source": [
    "**Note:** Assigning a column that doesn’t exist will create a new column."
   ]
  },
  {
   "cell_type": "markdown",
   "metadata": {},
   "source": [
    "### 3. Use the data created in question 1, to do the following: (3 marks)\n",
    "#### Access column 'Captial' by specifying the column number.\n",
    "#### Access column 'Population' by specifying the column name.\n",
    "#### Access a country information"
   ]
  },
  {
   "cell_type": "code",
   "execution_count": 0,
   "metadata": {
    "colab": {},
    "colab_type": "code",
    "id": "4piPkSKvWyXd"
   },
   "outputs": [],
   "source": [
    "# 1. Access column 'Captial' by specifying the column number.\n",
    "\n",
    "# type your data here"
   ]
  },
  {
   "cell_type": "code",
   "execution_count": 0,
   "metadata": {
    "colab": {},
    "colab_type": "code",
    "id": "mQw3NaH8WyXf"
   },
   "outputs": [],
   "source": [
    "# 2. Access column 'Population' by specifying the column name.\n",
    "\n",
    "# type your data here"
   ]
  },
  {
   "cell_type": "code",
   "execution_count": 0,
   "metadata": {
    "colab": {},
    "colab_type": "code",
    "id": "O0xAzPQGWyXh"
   },
   "outputs": [],
   "source": [
    "# 3. Access a country information\n",
    "# Lets say we want access information for France\n",
    "\n",
    "# type your data here"
   ]
  },
  {
   "cell_type": "markdown",
   "metadata": {},
   "source": [
    "\t\n",
    "### 4. Read a csv file \"example.csv\", print it and also check its dimensions ( 2marks)"
   ]
  },
  {
   "cell_type": "code",
   "execution_count": 0,
   "metadata": {
    "colab": {},
    "colab_type": "code",
    "id": "YMJFdwPKWyXm"
   },
   "outputs": [],
   "source": [
    "# import the data set\n",
    "# type your data here"
   ]
  },
  {
   "cell_type": "code",
   "execution_count": 0,
   "metadata": {
    "colab": {},
    "colab_type": "code",
    "id": "eSYXqMmkWyXq"
   },
   "outputs": [],
   "source": [
    "# check dimension/shape of the dataframe\n",
    "\n",
    "# type your data here"
   ]
  },
  {
   "cell_type": "markdown",
   "metadata": {},
   "source": [
    "### 5. Create a new column BMI, calculate the BMI of persons based on their weight and height. ( 2marks)"
   ]
  },
  {
   "cell_type": "code",
   "execution_count": 0,
   "metadata": {
    "colab": {},
    "colab_type": "code",
    "id": "RTEK8gUkWyXt"
   },
   "outputs": [],
   "source": [
    "# type your data here"
   ]
  },
  {
   "cell_type": "code",
   "execution_count": null,
   "metadata": {},
   "outputs": [],
   "source": []
  },
  {
   "cell_type": "markdown",
   "metadata": {},
   "source": [
    "### 6. Create a pandas series having values 4, 7, -5, 3, NAN and their index as d, b, a, c, e (2 marks)"
   ]
  },
  {
   "cell_type": "code",
   "execution_count": 0,
   "metadata": {
    "colab": {},
    "colab_type": "code",
    "id": "dNZlAowfWyXv"
   },
   "outputs": [],
   "source": [
    "# type your data here"
   ]
  },
  {
   "cell_type": "code",
   "execution_count": null,
   "metadata": {},
   "outputs": [],
   "source": []
  },
  {
   "cell_type": "markdown",
   "metadata": {},
   "source": [
    "### 7. Using the series in question 6, find:                       (2 marks)\n",
    "#### Find the minimum of all values\n",
    "#### Find the maximum of all value"
   ]
  },
  {
   "cell_type": "code",
   "execution_count": 0,
   "metadata": {
    "colab": {},
    "colab_type": "code",
    "id": "OpwaHdp-WyXz"
   },
   "outputs": [],
   "source": [
    "# the minimum of all values\n",
    "\n",
    "# type your data here"
   ]
  },
  {
   "cell_type": "code",
   "execution_count": 0,
   "metadata": {
    "colab": {},
    "colab_type": "code",
    "id": "2vt7vp_vWyX3"
   },
   "outputs": [],
   "source": [
    "# the maximum of all value\n",
    "\n",
    "# type your data here"
   ]
  },
  {
   "cell_type": "markdown",
   "metadata": {},
   "source": [
    "### 8. Using the series in question 6, sort: ( 2 marks)\n",
    "#### the values in ascending order\n",
    "#### the values in decending order"
   ]
  },
  {
   "cell_type": "code",
   "execution_count": 0,
   "metadata": {
    "colab": {},
    "colab_type": "code",
    "id": "Ug_RuzQ4WyX7"
   },
   "outputs": [],
   "source": [
    "# sorting the values in ascending order\n",
    "\n",
    "# type your data here"
   ]
  },
  {
   "cell_type": "code",
   "execution_count": null,
   "metadata": {},
   "outputs": [],
   "source": []
  },
  {
   "cell_type": "code",
   "execution_count": null,
   "metadata": {},
   "outputs": [],
   "source": []
  },
  {
   "cell_type": "markdown",
   "metadata": {
    "colab": {},
    "colab_type": "code",
    "id": "CerxeFjWWyX9"
   },
   "source": [
    "### 9. Find duplicate rows based on selected column ('Name') ( 2 marks)\n"
   ]
  },
  {
   "cell_type": "markdown",
   "metadata": {},
   "source": [
    "**Use the data frame given below:**\n",
    " \n",
    "\n",
    "<table>\n",
    "<tr>\n",
    "<th>Name</th>\n",
    "<th>Salary</th>\n",
    "<th>City</th>\n",
    "</tr>\n",
    "<tr>\n",
    "<td>John</td>\n",
    "<td>3400</td>\n",
    "<td>Sydeny</td>\n",
    "</tr>\n",
    "<tr>\n",
    "<td>Robert</td>\n",
    "<td>3000</td>\n",
    "<td>Chicago</td>\n",
    "</tr>\n",
    "<tr>\n",
    "<td>Aadi</td>\n",
    "<td>1600</td>\n",
    "<td>New York</td>\n",
    "</tr>\n",
    "<tr>\n",
    "<td>Robert</td>\n",
    "<td>3000</td>\n",
    "<td>Chicago</td>\n",
    "</tr>\n",
    "<tr>\n",
    "<td>Robert</td>\n",
    "<td>3000</td>\n",
    "<td>Chicago</td>\n",
    "</tr>\n",
    "<tr>\n",
    "<td>Robert</td>\n",
    "<td>3000</td>\n",
    "<td>Texas</td>\n",
    "</tr>\n",
    "<tr>\n",
    "<td>Aadi</td>\n",
    "<td>4000</td>\n",
    "<td>London</td>\n",
    "</tr>\n",
    "<tr>\n",
    "<td>Sachin</td>\n",
    "<td>3000</td>\n",
    "<td>Chicago</td>\n",
    "</tr>\n",
    "</table>\n",
    "\n",
    "\n",
    "\n",
    "\n"
   ]
  },
  {
   "cell_type": "code",
   "execution_count": null,
   "metadata": {},
   "outputs": [],
   "source": []
  },
  {
   "cell_type": "code",
   "execution_count": null,
   "metadata": {},
   "outputs": [],
   "source": []
  },
  {
   "cell_type": "markdown",
   "metadata": {},
   "source": [
    "### 10. Get the descriptive statistics of the sales for each season ( 2marks)"
   ]
  },
  {
   "cell_type": "markdown",
   "metadata": {},
   "source": [
    "**Use the data frame given below:**\n",
    "   \n",
    "<table>\n",
    "<tr>\n",
    "<th>Month</th>\n",
    "<th>Sales</th>\n",
    "<th>Seasons</th>\n",
    "</tr>\n",
    "<tr>\n",
    "<td>Jan</td>\n",
    "<td>22000</td>\n",
    "<td>Winter</td>\n",
    "</tr>\n",
    "<tr>\n",
    "<td>Feb</td>\n",
    "<td>27000</td>\n",
    "<td>Winter</td>\n",
    "</tr>\n",
    "<tr>\n",
    "<td>Mar</td>\n",
    "<td>25000</td>\n",
    "<td>Spring</td>\n",
    "</tr>\n",
    "<tr>\n",
    "<td>Apr</td>\n",
    "<td>29000</td>\n",
    "<td>Spring</td>\n",
    "</tr>\n",
    "<tr>\n",
    "<td>May</td>\n",
    "<td>35000</td>\n",
    "<td>Spring</td>\n",
    "</tr>\n",
    "<tr>\n",
    "<td>June</td>\n",
    "<td>67000</td>\n",
    "<td>Summer</td>\n",
    "</tr>\n",
    "<tr>\n",
    "<td>July</td>\n",
    "<td>78000</td>\n",
    "<td>Summer</td>\n",
    "</tr>\n",
    "<tr>\n",
    "<td>Aug</td>\n",
    "<td>67000</td>\n",
    "<td>Summer</td>\n",
    "</tr>\n",
    "<tr>\n",
    "<td>Sep</td>\n",
    "<td>56000</td>\n",
    "<td>Fall</td>\n",
    "</tr>\n",
    "<tr>\n",
    "<td>Oct</td>\n",
    "<td>56000</td>\n",
    "<td>Fall</td>\n",
    "</tr>\n",
    "<tr>\n",
    "<td>Nov</td>\n",
    "<td>56000</td>\n",
    "<td>Fall</td>\n",
    "</tr>\n",
    "<tr>\n",
    "<td>Dec</td>\n",
    "<td>60000</td>\n",
    "<td>Winter</td>\n",
    "</tr>\n",
    "\n",
    "</table>"
   ]
  },
  {
   "cell_type": "code",
   "execution_count": null,
   "metadata": {},
   "outputs": [],
   "source": []
  },
  {
   "cell_type": "code",
   "execution_count": null,
   "metadata": {},
   "outputs": [],
   "source": []
  },
  {
   "cell_type": "markdown",
   "metadata": {},
   "source": [
    "### 11. Combine the new column age in the below data frame (2 marks)"
   ]
  },
  {
   "cell_type": "markdown",
   "metadata": {},
   "source": [
    "**Use the data frame given below:**\n",
    "   \n",
    "<table>\n",
    "<tr>\n",
    "<th>Name</th>\n",
    "<th>Maths</th>\n",
    "<th>Science</th>\n",
    "<th>English</th>\n",
    "</tr>\n",
    "<tr>\n",
    "<td>Emma</td>\n",
    "<td>56</td>\n",
    "<td>89</td>\n",
    "<td>89</td>\n",
    "</tr>\n",
    "<tr>\n",
    "<td>Mia</td>\n",
    "<td>78</td>\n",
    "<td>87</td>\n",
    "<td>89</td>\n",
    "</tr>\n",
    "<tr>\n",
    "<td>Sophia</td>\n",
    "<td>78</td>\n",
    "<td>78</td>\n",
    "<td>76</td>\n",
    "</tr>\n",
    "<tr>\n",
    "<td>James</td>\n",
    "<td>67</td>\n",
    "<td>89</td>\n",
    "<td>78</td>\n",
    "</tr>\n",
    "<td>John</td>\n",
    "<td>88</td>\n",
    "<td>78</td>\n",
    "<td>87</td>\n",
    "</tr>\n",
    "   \n",
    "</table>"
   ]
  },
  {
   "cell_type": "code",
   "execution_count": null,
   "metadata": {},
   "outputs": [],
   "source": []
  },
  {
   "cell_type": "code",
   "execution_count": null,
   "metadata": {},
   "outputs": [],
   "source": []
  },
  {
   "cell_type": "markdown",
   "metadata": {},
   "source": [
    "### 12.Concatenate two data frames along with the columns"
   ]
  },
  {
   "cell_type": "markdown",
   "metadata": {},
   "source": [
    "**Use the data frame given below:**\n",
    "   \n",
    "<table>\n",
    "<tr>\n",
    "<th>ID</th>\n",
    "<th>Name</th>\n",
    "<th>Subject</th>\n",
    "</tr>\n",
    "<tr>\n",
    "<td>101</td>\n",
    "<td>Alex</td>\n",
    "<td>Maths</td>\n",
    "</tr>\n",
    "<tr>\n",
    "<td>102</td>\n",
    "<td>Amy</td>\n",
    "<td>English</td>\n",
    "</tr>\n",
    "<tr>\n",
    "<td>103</td>\n",
    "<td>Allen</td>\n",
    "<td>Science</td>\n",
    "</tr>\n",
    "<tr>\n",
    "<td>104</td>\n",
    "<td>Alice</td>\n",
    "<td>German</td>\n",
    "</tr>\n",
    "<td>105</td>\n",
    "<td>Ayoung</td>\n",
    "<td>History</td>\n",
    "</tr>\n",
    "   \n",
    "</table><br>\n",
    "\n",
    "\n",
    "\n",
    "<table>\n",
    "<tr>\n",
    "<th>ID</th>\n",
    "<th>Name</th>\n",
    "<th>Subject</th>\n",
    "</tr>\n",
    "<tr>\n",
    "<td>101</td>\n",
    "<td>Billy</td>\n",
    "<td>English</td>\n",
    "</tr>\n",
    "<tr>\n",
    "<td>102</td>\n",
    "<td>Brian</td>\n",
    "<td>Science</td>\n",
    "</tr>\n",
    "<tr>\n",
    "<td>103</td>\n",
    "<td>Bran</td>\n",
    "<td>Social Science</td>\n",
    "</tr>\n",
    "<tr>\n",
    "<td>104</td>\n",
    "<td>Bryce</td>\n",
    "<td>German</td>\n",
    "</tr>\n",
    "<td>105</td>\n",
    "<td>Betty</td>\n",
    "<td>History</td>\n",
    "</tr>\n",
    "   \n",
    "</table> "
   ]
  },
  {
   "cell_type": "code",
   "execution_count": null,
   "metadata": {},
   "outputs": [],
   "source": []
  },
  {
   "cell_type": "code",
   "execution_count": null,
   "metadata": {},
   "outputs": [],
   "source": []
  },
  {
   "cell_type": "code",
   "execution_count": null,
   "metadata": {},
   "outputs": [],
   "source": []
  }
 ],
 "metadata": {
  "colab": {
   "collapsed_sections": [],
   "name": "Pandas - 1 - Questions.ipynb",
   "provenance": []
  },
  "kernelspec": {
   "display_name": "Python 3",
   "language": "python",
   "name": "python3"
  },
  "language_info": {
   "codemirror_mode": {
    "name": "ipython",
    "version": 3
   },
   "file_extension": ".py",
   "mimetype": "text/x-python",
   "name": "python",
   "nbconvert_exporter": "python",
   "pygments_lexer": "ipython3",
   "version": "3.7.4"
  }
 },
 "nbformat": 4,
 "nbformat_minor": 1
}
